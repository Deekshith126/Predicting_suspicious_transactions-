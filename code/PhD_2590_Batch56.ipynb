{
 "cells": [
  {
   "cell_type": "markdown",
   "metadata": {},
   "source": [
    "# Problem statement\n",
    "\n",
    "#### -A large U.S. Electrical appliance's retailer has many branches. There is no Fixed Price for a product(for various reasons),the SalesPerson has the freedom to choose the price at which they sell the product. There is no cap on the minimum and maximum quantity of sales on the Salesperson.Due to these reasons the average sale size and average quantity for a transaction varies.The company wants to do a 'Sales and Productivity' analysis.\n",
    "#### -It is for this reason the company wants to implement a system to classify the reports into one of the Three categories, Suspicious/Not Suspicious/Indeterminate.\n",
    "#### -The company also wants the Salespersons to be grouped into HighRisk or MediumRisk or LowRisk categories based on the report info provided by them."
   ]
  },
  {
   "cell_type": "markdown",
   "metadata": {},
   "source": [
    "# Overview of this notebook\n",
    "### -Univariate Analysis\n",
    "### -Multivariate Analysis"
   ]
  },
  {
   "cell_type": "markdown",
   "metadata": {},
   "source": [
    "    "
   ]
  },
  {
   "cell_type": "markdown",
   "metadata": {},
   "source": [
    "   "
   ]
  },
  {
   "cell_type": "code",
   "execution_count": 1,
   "metadata": {},
   "outputs": [],
   "source": [
    "import pandas as pd\n",
    "import numpy as np\n",
    "import matplotlib.pyplot as plt\n",
    "%matplotlib inline\n",
    "import seaborn as sns\n",
    "import warnings\n",
    "warnings.filterwarnings('ignore')"
   ]
  },
  {
   "cell_type": "code",
   "execution_count": 2,
   "metadata": {},
   "outputs": [],
   "source": [
    "import os\n",
    "os.chdir(\"C:\\\\Users\\\\deeks\\\\Documents\\\\PhD\\\\PHD_TrainData_and_ProblemStatement-1558070454703\\\\PHD_TrainData_and_ProblemStatement\")"
   ]
  },
  {
   "cell_type": "code",
   "execution_count": 3,
   "metadata": {},
   "outputs": [],
   "source": [
    "train_data=pd.read_excel(\"Train.xlsx\",header=0)"
   ]
  },
  {
   "cell_type": "code",
   "execution_count": 4,
   "metadata": {},
   "outputs": [
    {
     "data": {
      "text/html": [
       "<div>\n",
       "<style scoped>\n",
       "    .dataframe tbody tr th:only-of-type {\n",
       "        vertical-align: middle;\n",
       "    }\n",
       "\n",
       "    .dataframe tbody tr th {\n",
       "        vertical-align: top;\n",
       "    }\n",
       "\n",
       "    .dataframe thead th {\n",
       "        text-align: right;\n",
       "    }\n",
       "</style>\n",
       "<table border=\"1\" class=\"dataframe\">\n",
       "  <thead>\n",
       "    <tr style=\"text-align: right;\">\n",
       "      <th></th>\n",
       "      <th>ReportID</th>\n",
       "      <th>SalesPersonID</th>\n",
       "      <th>ProductID</th>\n",
       "      <th>Quantity</th>\n",
       "      <th>TotalSalesValue</th>\n",
       "      <th>Suspicious</th>\n",
       "    </tr>\n",
       "  </thead>\n",
       "  <tbody>\n",
       "    <tr>\n",
       "      <th>0</th>\n",
       "      <td>Rep10101</td>\n",
       "      <td>C21116</td>\n",
       "      <td>PR6112</td>\n",
       "      <td>182</td>\n",
       "      <td>1665</td>\n",
       "      <td>indeterminate</td>\n",
       "    </tr>\n",
       "    <tr>\n",
       "      <th>1</th>\n",
       "      <td>Rep10102</td>\n",
       "      <td>C21116</td>\n",
       "      <td>PR6112</td>\n",
       "      <td>182</td>\n",
       "      <td>1740</td>\n",
       "      <td>indeterminate</td>\n",
       "    </tr>\n",
       "    <tr>\n",
       "      <th>2</th>\n",
       "      <td>Rep10103</td>\n",
       "      <td>C21116</td>\n",
       "      <td>PR6253</td>\n",
       "      <td>101</td>\n",
       "      <td>1040</td>\n",
       "      <td>indeterminate</td>\n",
       "    </tr>\n",
       "    <tr>\n",
       "      <th>3</th>\n",
       "      <td>Rep10104</td>\n",
       "      <td>C21116</td>\n",
       "      <td>PR6253</td>\n",
       "      <td>283</td>\n",
       "      <td>4495</td>\n",
       "      <td>No</td>\n",
       "    </tr>\n",
       "    <tr>\n",
       "      <th>4</th>\n",
       "      <td>Rep10105</td>\n",
       "      <td>C21116</td>\n",
       "      <td>PR6294</td>\n",
       "      <td>108</td>\n",
       "      <td>1465</td>\n",
       "      <td>indeterminate</td>\n",
       "    </tr>\n",
       "  </tbody>\n",
       "</table>\n",
       "</div>"
      ],
      "text/plain": [
       "   ReportID SalesPersonID ProductID  Quantity  TotalSalesValue     Suspicious\n",
       "0  Rep10101        C21116    PR6112       182             1665  indeterminate\n",
       "1  Rep10102        C21116    PR6112       182             1740  indeterminate\n",
       "2  Rep10103        C21116    PR6253       101             1040  indeterminate\n",
       "3  Rep10104        C21116    PR6253       283             4495             No\n",
       "4  Rep10105        C21116    PR6294       108             1465  indeterminate"
      ]
     },
     "execution_count": 4,
     "metadata": {},
     "output_type": "execute_result"
    }
   ],
   "source": [
    "train_data.head()"
   ]
  },
  {
   "cell_type": "code",
   "execution_count": 5,
   "metadata": {},
   "outputs": [
    {
     "name": "stdout",
     "output_type": "stream",
     "text": [
      "(42582, 6)\n"
     ]
    },
    {
     "data": {
      "text/plain": [
       "ReportID           object\n",
       "SalesPersonID      object\n",
       "ProductID          object\n",
       "Quantity            int64\n",
       "TotalSalesValue     int64\n",
       "Suspicious         object\n",
       "dtype: object"
      ]
     },
     "execution_count": 5,
     "metadata": {},
     "output_type": "execute_result"
    }
   ],
   "source": [
    "train_data.isnull().sum()\n",
    "print(train_data.shape)\n",
    "train_data.dtypes"
   ]
  },
  {
   "cell_type": "code",
   "execution_count": 6,
   "metadata": {},
   "outputs": [
    {
     "data": {
      "text/html": [
       "<div>\n",
       "<style scoped>\n",
       "    .dataframe tbody tr th:only-of-type {\n",
       "        vertical-align: middle;\n",
       "    }\n",
       "\n",
       "    .dataframe tbody tr th {\n",
       "        vertical-align: top;\n",
       "    }\n",
       "\n",
       "    .dataframe thead th {\n",
       "        text-align: right;\n",
       "    }\n",
       "</style>\n",
       "<table border=\"1\" class=\"dataframe\">\n",
       "  <thead>\n",
       "    <tr style=\"text-align: right;\">\n",
       "      <th></th>\n",
       "      <th>ReportID</th>\n",
       "      <th>SalesPersonID</th>\n",
       "      <th>ProductID</th>\n",
       "      <th>Quantity</th>\n",
       "      <th>TotalSalesValue</th>\n",
       "      <th>Suspicious</th>\n",
       "    </tr>\n",
       "  </thead>\n",
       "  <tbody>\n",
       "    <tr>\n",
       "      <th>count</th>\n",
       "      <td>42582</td>\n",
       "      <td>42582</td>\n",
       "      <td>42582</td>\n",
       "      <td>4.258200e+04</td>\n",
       "      <td>4.258200e+04</td>\n",
       "      <td>42582</td>\n",
       "    </tr>\n",
       "    <tr>\n",
       "      <th>unique</th>\n",
       "      <td>42582</td>\n",
       "      <td>992</td>\n",
       "      <td>593</td>\n",
       "      <td>NaN</td>\n",
       "      <td>NaN</td>\n",
       "      <td>3</td>\n",
       "    </tr>\n",
       "    <tr>\n",
       "      <th>top</th>\n",
       "      <td>Rep37408</td>\n",
       "      <td>C21976</td>\n",
       "      <td>PR6253</td>\n",
       "      <td>NaN</td>\n",
       "      <td>NaN</td>\n",
       "      <td>indeterminate</td>\n",
       "    </tr>\n",
       "    <tr>\n",
       "      <th>freq</th>\n",
       "      <td>1</td>\n",
       "      <td>1359</td>\n",
       "      <td>2590</td>\n",
       "      <td>NaN</td>\n",
       "      <td>NaN</td>\n",
       "      <td>39846</td>\n",
       "    </tr>\n",
       "    <tr>\n",
       "      <th>mean</th>\n",
       "      <td>NaN</td>\n",
       "      <td>NaN</td>\n",
       "      <td>NaN</td>\n",
       "      <td>4.910048e+03</td>\n",
       "      <td>1.620923e+04</td>\n",
       "      <td>NaN</td>\n",
       "    </tr>\n",
       "    <tr>\n",
       "      <th>std</th>\n",
       "      <td>NaN</td>\n",
       "      <td>NaN</td>\n",
       "      <td>NaN</td>\n",
       "      <td>9.833621e+04</td>\n",
       "      <td>5.997195e+04</td>\n",
       "      <td>NaN</td>\n",
       "    </tr>\n",
       "    <tr>\n",
       "      <th>min</th>\n",
       "      <td>NaN</td>\n",
       "      <td>NaN</td>\n",
       "      <td>NaN</td>\n",
       "      <td>3.300000e+01</td>\n",
       "      <td>5.980000e+02</td>\n",
       "      <td>NaN</td>\n",
       "    </tr>\n",
       "    <tr>\n",
       "      <th>25%</th>\n",
       "      <td>NaN</td>\n",
       "      <td>NaN</td>\n",
       "      <td>NaN</td>\n",
       "      <td>1.110000e+02</td>\n",
       "      <td>1.345000e+03</td>\n",
       "      <td>NaN</td>\n",
       "    </tr>\n",
       "    <tr>\n",
       "      <th>50%</th>\n",
       "      <td>NaN</td>\n",
       "      <td>NaN</td>\n",
       "      <td>NaN</td>\n",
       "      <td>2.060000e+02</td>\n",
       "      <td>2.980000e+03</td>\n",
       "      <td>NaN</td>\n",
       "    </tr>\n",
       "    <tr>\n",
       "      <th>75%</th>\n",
       "      <td>NaN</td>\n",
       "      <td>NaN</td>\n",
       "      <td>NaN</td>\n",
       "      <td>1.136000e+03</td>\n",
       "      <td>1.076500e+04</td>\n",
       "      <td>NaN</td>\n",
       "    </tr>\n",
       "    <tr>\n",
       "      <th>max</th>\n",
       "      <td>NaN</td>\n",
       "      <td>NaN</td>\n",
       "      <td>NaN</td>\n",
       "      <td>1.970813e+07</td>\n",
       "      <td>3.953985e+06</td>\n",
       "      <td>NaN</td>\n",
       "    </tr>\n",
       "  </tbody>\n",
       "</table>\n",
       "</div>"
      ],
      "text/plain": [
       "        ReportID SalesPersonID ProductID      Quantity  TotalSalesValue  \\\n",
       "count      42582         42582     42582  4.258200e+04     4.258200e+04   \n",
       "unique     42582           992       593           NaN              NaN   \n",
       "top     Rep37408        C21976    PR6253           NaN              NaN   \n",
       "freq           1          1359      2590           NaN              NaN   \n",
       "mean         NaN           NaN       NaN  4.910048e+03     1.620923e+04   \n",
       "std          NaN           NaN       NaN  9.833621e+04     5.997195e+04   \n",
       "min          NaN           NaN       NaN  3.300000e+01     5.980000e+02   \n",
       "25%          NaN           NaN       NaN  1.110000e+02     1.345000e+03   \n",
       "50%          NaN           NaN       NaN  2.060000e+02     2.980000e+03   \n",
       "75%          NaN           NaN       NaN  1.136000e+03     1.076500e+04   \n",
       "max          NaN           NaN       NaN  1.970813e+07     3.953985e+06   \n",
       "\n",
       "           Suspicious  \n",
       "count           42582  \n",
       "unique              3  \n",
       "top     indeterminate  \n",
       "freq            39846  \n",
       "mean              NaN  \n",
       "std               NaN  \n",
       "min               NaN  \n",
       "25%               NaN  \n",
       "50%               NaN  \n",
       "75%               NaN  \n",
       "max               NaN  "
      ]
     },
     "execution_count": 6,
     "metadata": {},
     "output_type": "execute_result"
    }
   ],
   "source": [
    "train_data.describe(include='all')"
   ]
  },
  {
   "cell_type": "code",
   "execution_count": 7,
   "metadata": {},
   "outputs": [],
   "source": [
    "train_data['ReportID']=train_data['ReportID'].astype('category')\n",
    "train_data['SalesPersonID']=train_data['SalesPersonID'].astype('category')\n",
    "train_data['ProductID']=train_data['ProductID'].astype('category')\n",
    "train_data['Suspicious']=train_data['Suspicious'].astype('category')"
   ]
  },
  {
   "cell_type": "code",
   "execution_count": 8,
   "metadata": {},
   "outputs": [
    {
     "data": {
      "text/plain": [
       "ReportID           category\n",
       "SalesPersonID      category\n",
       "ProductID          category\n",
       "Quantity              int64\n",
       "TotalSalesValue       int64\n",
       "Suspicious         category\n",
       "dtype: object"
      ]
     },
     "execution_count": 8,
     "metadata": {},
     "output_type": "execute_result"
    }
   ],
   "source": [
    "train_data.dtypes"
   ]
  },
  {
   "cell_type": "code",
   "execution_count": 9,
   "metadata": {},
   "outputs": [
    {
     "name": "stdout",
     "output_type": "stream",
     "text": [
      "(593,)\n",
      "(992,)\n",
      "(42582,)\n"
     ]
    }
   ],
   "source": [
    "print(train_data.ProductID.unique().shape)\n",
    "print(train_data.SalesPersonID.unique().shape)\n",
    "print(train_data.ReportID.unique().shape)"
   ]
  },
  {
   "cell_type": "markdown",
   "metadata": {},
   "source": [
    "#### The above numericals indicates that there are:-\n",
    "#### 1) 593 Products\n",
    "#### 2) 992 Sales Persons\n",
    "#### 3) 42582 transactions had done"
   ]
  },
  {
   "cell_type": "markdown",
   "metadata": {},
   "source": [
    "## Univariate Analysis"
   ]
  },
  {
   "cell_type": "code",
   "execution_count": 10,
   "metadata": {},
   "outputs": [
    {
     "data": {
      "text/plain": [
       "indeterminate    93.574750\n",
       "No                6.000188\n",
       "Yes               0.425062\n",
       "Name: Suspicious, dtype: float64"
      ]
     },
     "execution_count": 10,
     "metadata": {},
     "output_type": "execute_result"
    }
   ],
   "source": [
    "100*train_data.Suspicious.value_counts()/len(train_data.Suspicious)"
   ]
  },
  {
   "cell_type": "markdown",
   "metadata": {},
   "source": [
    "#### This shows that the transactions made by the sales persons are 0.4% Fraud; 6% are Not Fraud; 93% are not able to determine"
   ]
  },
  {
   "cell_type": "code",
   "execution_count": 11,
   "metadata": {},
   "outputs": [
    {
     "data": {
      "image/png": "[encoded data removed]",
      "text/plain": [
       "<Figure size 1440x720 with 1 Axes>"
      ]
     },
     "metadata": {},
     "output_type": "display_data"
    }
   ],
   "source": [
    "plt.figure(figsize=(20,10))\n",
    "count_classes = pd.value_counts(train_data['Suspicious'], sort = True)\n",
    "count_classes.plot(kind = 'bar', rot=0,color='#819980')\n",
    "plt.title(\"Frequency of each level\")\n",
    "plt.xlabel(\"Class\")\n",
    "plt.ylabel(\"Number of Observations\");"
   ]
  },
  {
   "cell_type": "markdown",
   "metadata": {},
   "source": [
    "## Bivariate Analysis"
   ]
  },
  {
   "cell_type": "code",
   "execution_count": 12,
   "metadata": {},
   "outputs": [
    {
     "data": {
      "text/plain": [
       "Text(-15.075,0.5,'TotalSalesValue')"
      ]
     },
     "execution_count": 12,
     "metadata": {},
     "output_type": "execute_result"
    },
    {
     "data": {
      "image/png": "[encoded data removed]",
      "text/plain": [
       "<Figure size 432x432 with 1 Axes>"
      ]
     },
     "metadata": {},
     "output_type": "display_data"
    }
   ],
   "source": [
    "sns.factorplot(x=\"Suspicious\", y=\"TotalSalesValue\", data=train_data,size=6)\n",
    "plt.xlabel(\"Suspicious\", fontsize=15)\n",
    "plt.ylabel(\"TotalSalesValue\", fontsize=15)"
   ]
  },
  {
   "cell_type": "code",
   "execution_count": 13,
   "metadata": {},
   "outputs": [
    {
     "data": {
      "text/plain": [
       "Text(-15.075,0.5,'Quantity of products')"
      ]
     },
     "execution_count": 13,
     "metadata": {},
     "output_type": "execute_result"
    },
    {
     "data": {
      "image/png": "[encoded data removed]",
      "text/plain": [
       "<Figure size 432x432 with 1 Axes>"
      ]
     },
     "metadata": {},
     "output_type": "display_data"
    }
   ],
   "source": [
    "sns.factorplot(x=\"Suspicious\", y=\"Quantity\", data=train_data,size=6)\n",
    "plt.xlabel(\"Suspicious\", fontsize=15)\n",
    "plt.ylabel(\"Quantity of products\", fontsize=15)"
   ]
  },
  {
   "cell_type": "code",
   "execution_count": 14,
   "metadata": {},
   "outputs": [
    {
     "data": {
      "text/plain": [
       "<matplotlib.axes._subplots.AxesSubplot at 0x24834ddc208>"
      ]
     },
     "execution_count": 14,
     "metadata": {},
     "output_type": "execute_result"
    },
    {
     "data": {
      "image/png": "[encoded data removed]",
      "text/plain": [
       "<Figure size 432x288 with 1 Axes>"
      ]
     },
     "metadata": {},
     "output_type": "display_data"
    }
   ],
   "source": [
    "train_data.groupby('Suspicious')['Quantity','TotalSalesValue'].sum().plot.bar()"
   ]
  },
  {
   "cell_type": "code",
   "execution_count": 15,
   "metadata": {},
   "outputs": [
    {
     "data": {
      "text/plain": [
       "<matplotlib.axes._subplots.AxesSubplot at 0x248368cfbe0>"
      ]
     },
     "execution_count": 15,
     "metadata": {},
     "output_type": "execute_result"
    },
    {
     "data": {
      "image/png": "[encoded data removed]",
      "text/plain": [
       "<Figure size 432x288 with 1 Axes>"
      ]
     },
     "metadata": {},
     "output_type": "display_data"
    }
   ],
   "source": [
    "train_data['SalesPersonID'].value_counts().sort_index().sort_values(ascending=False)[:10].plot.bar(color='#819980')"
   ]
  },
  {
   "cell_type": "code",
   "execution_count": 16,
   "metadata": {},
   "outputs": [
    {
     "data": {
      "text/plain": [
       "<matplotlib.axes._subplots.AxesSubplot at 0x2483654f5c0>"
      ]
     },
     "execution_count": 16,
     "metadata": {},
     "output_type": "execute_result"
    },
    {
     "data": {
      "image/png": "[encoded data removed]",
      "text/plain": [
       "<Figure size 432x288 with 1 Axes>"
      ]
     },
     "metadata": {},
     "output_type": "display_data"
    }
   ],
   "source": [
    "train_data['ProductID'].value_counts().sort_index().sort_values(ascending=False)[:10].plot.bar(color='#819980')"
   ]
  },
  {
   "cell_type": "code",
   "execution_count": 17,
   "metadata": {},
   "outputs": [],
   "source": [
    "train_data['Price_of_oneProduct'] = train_data.apply(lambda row: row.TotalSalesValue / row.Quantity, axis = 1)"
   ]
  },
  {
   "cell_type": "code",
   "execution_count": 18,
   "metadata": {},
   "outputs": [
    {
     "data": {
      "text/html": [
       "<div>\n",
       "<style scoped>\n",
       "    .dataframe tbody tr th:only-of-type {\n",
       "        vertical-align: middle;\n",
       "    }\n",
       "\n",
       "    .dataframe tbody tr th {\n",
       "        vertical-align: top;\n",
       "    }\n",
       "\n",
       "    .dataframe thead th {\n",
       "        text-align: right;\n",
       "    }\n",
       "</style>\n",
       "<table border=\"1\" class=\"dataframe\">\n",
       "  <thead>\n",
       "    <tr style=\"text-align: right;\">\n",
       "      <th></th>\n",
       "      <th>ReportID</th>\n",
       "      <th>SalesPersonID</th>\n",
       "      <th>ProductID</th>\n",
       "      <th>Quantity</th>\n",
       "      <th>TotalSalesValue</th>\n",
       "      <th>Suspicious</th>\n",
       "      <th>Price_of_oneProduct</th>\n",
       "    </tr>\n",
       "  </thead>\n",
       "  <tbody>\n",
       "    <tr>\n",
       "      <th>0</th>\n",
       "      <td>Rep10101</td>\n",
       "      <td>C21116</td>\n",
       "      <td>PR6112</td>\n",
       "      <td>182</td>\n",
       "      <td>1665</td>\n",
       "      <td>indeterminate</td>\n",
       "      <td>9.148352</td>\n",
       "    </tr>\n",
       "    <tr>\n",
       "      <th>1</th>\n",
       "      <td>Rep10102</td>\n",
       "      <td>C21116</td>\n",
       "      <td>PR6112</td>\n",
       "      <td>182</td>\n",
       "      <td>1740</td>\n",
       "      <td>indeterminate</td>\n",
       "      <td>9.560440</td>\n",
       "    </tr>\n",
       "    <tr>\n",
       "      <th>2</th>\n",
       "      <td>Rep10103</td>\n",
       "      <td>C21116</td>\n",
       "      <td>PR6253</td>\n",
       "      <td>101</td>\n",
       "      <td>1040</td>\n",
       "      <td>indeterminate</td>\n",
       "      <td>10.297030</td>\n",
       "    </tr>\n",
       "    <tr>\n",
       "      <th>3</th>\n",
       "      <td>Rep10104</td>\n",
       "      <td>C21116</td>\n",
       "      <td>PR6253</td>\n",
       "      <td>283</td>\n",
       "      <td>4495</td>\n",
       "      <td>No</td>\n",
       "      <td>15.883392</td>\n",
       "    </tr>\n",
       "    <tr>\n",
       "      <th>4</th>\n",
       "      <td>Rep10105</td>\n",
       "      <td>C21116</td>\n",
       "      <td>PR6294</td>\n",
       "      <td>108</td>\n",
       "      <td>1465</td>\n",
       "      <td>indeterminate</td>\n",
       "      <td>13.564815</td>\n",
       "    </tr>\n",
       "  </tbody>\n",
       "</table>\n",
       "</div>"
      ],
      "text/plain": [
       "   ReportID SalesPersonID ProductID  Quantity  TotalSalesValue     Suspicious  \\\n",
       "0  Rep10101        C21116    PR6112       182             1665  indeterminate   \n",
       "1  Rep10102        C21116    PR6112       182             1740  indeterminate   \n",
       "2  Rep10103        C21116    PR6253       101             1040  indeterminate   \n",
       "3  Rep10104        C21116    PR6253       283             4495             No   \n",
       "4  Rep10105        C21116    PR6294       108             1465  indeterminate   \n",
       "\n",
       "   Price_of_oneProduct  \n",
       "0             9.148352  \n",
       "1             9.560440  \n",
       "2            10.297030  \n",
       "3            15.883392  \n",
       "4            13.564815  "
      ]
     },
     "execution_count": 18,
     "metadata": {},
     "output_type": "execute_result"
    }
   ],
   "source": [
    "train_data.head()"
   ]
  },
  {
   "cell_type": "code",
   "execution_count": 19,
   "metadata": {
    "scrolled": true
   },
   "outputs": [
    {
     "data": {
      "text/plain": [
       "2555"
      ]
     },
     "execution_count": 19,
     "metadata": {},
     "output_type": "execute_result"
    }
   ],
   "source": [
    "train_data[train_data.Suspicious=='No'].SalesPersonID.count()"
   ]
  },
  {
   "cell_type": "code",
   "execution_count": 20,
   "metadata": {},
   "outputs": [],
   "source": [
    "train_Yes=train_data[train_data.Suspicious=='Yes']\n",
    "train_Indeterminate=train_data[train_data.Suspicious=='indeterminate']\n",
    "train_No=train_data[train_data.Suspicious=='No']"
   ]
  },
  {
   "cell_type": "code",
   "execution_count": 21,
   "metadata": {},
   "outputs": [
    {
     "data": {
      "image/png": "[encoded data removed]",
      "text/plain": [
       "<Figure size 1440x720 with 1 Axes>"
      ]
     },
     "metadata": {},
     "output_type": "display_data"
    }
   ],
   "source": [
    "plt.figure(figsize=(20,10))\n",
    "bins = np.linspace(1000, 5000, 100)\n",
    "plt.hist(train_Yes.TotalSalesValue, alpha=1,bins=bins,color=\"#a5177d\", normed=True, label='Fraud')\n",
    "plt.hist(train_No.TotalSalesValue, alpha=1,bins=bins,color=\"#1769a5\", normed=True, label='Not Fraud')\n",
    "plt.legend(loc='upper right')\n",
    "plt.title(\"Amount by percentage of totalsales\")\n",
    "plt.xlabel(\"Total sales Value\")\n",
    "plt.ylabel(\"Percentage of Sales value (%)\");\n",
    "plt.show()"
   ]
  },
  {
   "cell_type": "code",
   "execution_count": 22,
   "metadata": {},
   "outputs": [
    {
     "data": {
      "text/plain": [
       "<matplotlib.axes._subplots.AxesSubplot at 0x24836cf6f98>"
      ]
     },
     "execution_count": 22,
     "metadata": {},
     "output_type": "execute_result"
    },
    {
     "data": {
      "image/png": "[encoded data removed]",
      "text/plain": [
       "<Figure size 432x288 with 1 Axes>"
      ]
     },
     "metadata": {},
     "output_type": "display_data"
    }
   ],
   "source": [
    "sns.boxplot(train_No.TotalSalesValue,orient='v')"
   ]
  },
  {
   "cell_type": "code",
   "execution_count": 23,
   "metadata": {},
   "outputs": [
    {
     "data": {
      "text/plain": [
       "<matplotlib.axes._subplots.AxesSubplot at 0x248363e5cc0>"
      ]
     },
     "execution_count": 23,
     "metadata": {},
     "output_type": "execute_result"
    },
    {
     "data": {
      "image/png": "[encoded data removed]",
      "text/plain": [
       "<Figure size 432x288 with 1 Axes>"
      ]
     },
     "metadata": {},
     "output_type": "display_data"
    }
   ],
   "source": [
    "sns.boxplot(train_Yes.TotalSalesValue,orient='v')"
   ]
  },
  {
   "cell_type": "code",
   "execution_count": 24,
   "metadata": {},
   "outputs": [
    {
     "data": {
      "text/html": [
       "<div>\n",
       "<style scoped>\n",
       "    .dataframe tbody tr th:only-of-type {\n",
       "        vertical-align: middle;\n",
       "    }\n",
       "\n",
       "    .dataframe tbody tr th {\n",
       "        vertical-align: top;\n",
       "    }\n",
       "\n",
       "    .dataframe thead th {\n",
       "        text-align: right;\n",
       "    }\n",
       "</style>\n",
       "<table border=\"1\" class=\"dataframe\">\n",
       "  <thead>\n",
       "    <tr style=\"text-align: right;\">\n",
       "      <th></th>\n",
       "      <th>ReportID</th>\n",
       "      <th>SalesPersonID</th>\n",
       "      <th>ProductID</th>\n",
       "      <th>Quantity</th>\n",
       "      <th>TotalSalesValue</th>\n",
       "      <th>Suspicious</th>\n",
       "      <th>Price_of_oneProduct</th>\n",
       "    </tr>\n",
       "    <tr>\n",
       "      <th>Suspicious</th>\n",
       "      <th></th>\n",
       "      <th></th>\n",
       "      <th></th>\n",
       "      <th></th>\n",
       "      <th></th>\n",
       "      <th></th>\n",
       "      <th></th>\n",
       "    </tr>\n",
       "  </thead>\n",
       "  <tbody>\n",
       "    <tr>\n",
       "      <th>No</th>\n",
       "      <td>2555</td>\n",
       "      <td>2555</td>\n",
       "      <td>2555</td>\n",
       "      <td>2555</td>\n",
       "      <td>2555</td>\n",
       "      <td>2555</td>\n",
       "      <td>2555</td>\n",
       "    </tr>\n",
       "    <tr>\n",
       "      <th>Yes</th>\n",
       "      <td>181</td>\n",
       "      <td>181</td>\n",
       "      <td>181</td>\n",
       "      <td>181</td>\n",
       "      <td>181</td>\n",
       "      <td>181</td>\n",
       "      <td>181</td>\n",
       "    </tr>\n",
       "    <tr>\n",
       "      <th>indeterminate</th>\n",
       "      <td>39846</td>\n",
       "      <td>39846</td>\n",
       "      <td>39846</td>\n",
       "      <td>39846</td>\n",
       "      <td>39846</td>\n",
       "      <td>39846</td>\n",
       "      <td>39846</td>\n",
       "    </tr>\n",
       "  </tbody>\n",
       "</table>\n",
       "</div>"
      ],
      "text/plain": [
       "               ReportID  SalesPersonID  ProductID  Quantity  TotalSalesValue  \\\n",
       "Suspicious                                                                     \n",
       "No                 2555           2555       2555      2555             2555   \n",
       "Yes                 181            181        181       181              181   \n",
       "indeterminate     39846          39846      39846     39846            39846   \n",
       "\n",
       "               Suspicious  Price_of_oneProduct  \n",
       "Suspicious                                      \n",
       "No                   2555                 2555  \n",
       "Yes                   181                  181  \n",
       "indeterminate       39846                39846  "
      ]
     },
     "execution_count": 24,
     "metadata": {},
     "output_type": "execute_result"
    }
   ],
   "source": [
    "train_data.groupby('Suspicious').apply(lambda x: x.count())"
   ]
  },
  {
   "cell_type": "code",
   "execution_count": 25,
   "metadata": {},
   "outputs": [
    {
     "data": {
      "text/html": [
       "<div>\n",
       "<style scoped>\n",
       "    .dataframe tbody tr th:only-of-type {\n",
       "        vertical-align: middle;\n",
       "    }\n",
       "\n",
       "    .dataframe tbody tr th {\n",
       "        vertical-align: top;\n",
       "    }\n",
       "\n",
       "    .dataframe thead th {\n",
       "        text-align: right;\n",
       "    }\n",
       "</style>\n",
       "<table border=\"1\" class=\"dataframe\">\n",
       "  <thead>\n",
       "    <tr style=\"text-align: right;\">\n",
       "      <th></th>\n",
       "      <th>ReportID</th>\n",
       "      <th>SalesPersonID</th>\n",
       "      <th>ProductID</th>\n",
       "      <th>Quantity</th>\n",
       "      <th>TotalSalesValue</th>\n",
       "      <th>Suspicious</th>\n",
       "      <th>Price_of_oneProduct</th>\n",
       "    </tr>\n",
       "  </thead>\n",
       "  <tbody>\n",
       "    <tr>\n",
       "      <th>0</th>\n",
       "      <td>Rep10101</td>\n",
       "      <td>C21116</td>\n",
       "      <td>PR6112</td>\n",
       "      <td>182</td>\n",
       "      <td>1665</td>\n",
       "      <td>indeterminate</td>\n",
       "      <td>9.148352</td>\n",
       "    </tr>\n",
       "    <tr>\n",
       "      <th>1</th>\n",
       "      <td>Rep10102</td>\n",
       "      <td>C21116</td>\n",
       "      <td>PR6112</td>\n",
       "      <td>182</td>\n",
       "      <td>1740</td>\n",
       "      <td>indeterminate</td>\n",
       "      <td>9.560440</td>\n",
       "    </tr>\n",
       "    <tr>\n",
       "      <th>2</th>\n",
       "      <td>Rep10103</td>\n",
       "      <td>C21116</td>\n",
       "      <td>PR6253</td>\n",
       "      <td>101</td>\n",
       "      <td>1040</td>\n",
       "      <td>indeterminate</td>\n",
       "      <td>10.297030</td>\n",
       "    </tr>\n",
       "    <tr>\n",
       "      <th>4</th>\n",
       "      <td>Rep10105</td>\n",
       "      <td>C21116</td>\n",
       "      <td>PR6294</td>\n",
       "      <td>108</td>\n",
       "      <td>1465</td>\n",
       "      <td>indeterminate</td>\n",
       "      <td>13.564815</td>\n",
       "    </tr>\n",
       "    <tr>\n",
       "      <th>5</th>\n",
       "      <td>Rep10106</td>\n",
       "      <td>C21116</td>\n",
       "      <td>PR6253</td>\n",
       "      <td>421</td>\n",
       "      <td>6655</td>\n",
       "      <td>indeterminate</td>\n",
       "      <td>15.807601</td>\n",
       "    </tr>\n",
       "  </tbody>\n",
       "</table>\n",
       "</div>"
      ],
      "text/plain": [
       "   ReportID SalesPersonID ProductID  Quantity  TotalSalesValue     Suspicious  \\\n",
       "0  Rep10101        C21116    PR6112       182             1665  indeterminate   \n",
       "1  Rep10102        C21116    PR6112       182             1740  indeterminate   \n",
       "2  Rep10103        C21116    PR6253       101             1040  indeterminate   \n",
       "4  Rep10105        C21116    PR6294       108             1465  indeterminate   \n",
       "5  Rep10106        C21116    PR6253       421             6655  indeterminate   \n",
       "\n",
       "   Price_of_oneProduct  \n",
       "0             9.148352  \n",
       "1             9.560440  \n",
       "2            10.297030  \n",
       "4            13.564815  \n",
       "5            15.807601  "
      ]
     },
     "execution_count": 25,
     "metadata": {},
     "output_type": "execute_result"
    }
   ],
   "source": [
    "train_Indeterminate.head()"
   ]
  },
  {
   "cell_type": "code",
   "execution_count": 26,
   "metadata": {},
   "outputs": [
    {
     "data": {
      "text/plain": [
       "<matplotlib.axes._subplots.AxesSubplot at 0x2483636b710>"
      ]
     },
     "execution_count": 26,
     "metadata": {},
     "output_type": "execute_result"
    },
    {
     "data": {
      "image/png": "[encoded data removed]",
      "text/plain": [
       "<Figure size 432x288 with 1 Axes>"
      ]
     },
     "metadata": {},
     "output_type": "display_data"
    }
   ],
   "source": [
    "train_data.groupby(train_data['ProductID'])['Price_of_oneProduct'].mean().sort_index().sort_values(ascending=False)[:10].plot.bar(color='#819980')"
   ]
  },
  {
   "cell_type": "markdown",
   "metadata": {},
   "source": [
    "### Above products are  top 10 high valued products"
   ]
  },
  {
   "cell_type": "markdown",
   "metadata": {},
   "source": [
    "    "
   ]
  },
  {
   "cell_type": "code",
   "execution_count": 27,
   "metadata": {},
   "outputs": [
    {
     "data": {
      "text/plain": [
       "<matplotlib.axes._subplots.AxesSubplot at 0x248365edeb8>"
      ]
     },
     "execution_count": 27,
     "metadata": {},
     "output_type": "execute_result"
    },
    {
     "data": {
      "image/png": "[encoded data removed]",
      "text/plain": [
       "<Figure size 432x288 with 1 Axes>"
      ]
     },
     "metadata": {},
     "output_type": "display_data"
    }
   ],
   "source": [
    "train_data.groupby(train_data['ProductID'])['Price_of_oneProduct'].mean().sort_index().sort_values(ascending=True)[:10].plot.bar(color='#819980')"
   ]
  },
  {
   "cell_type": "markdown",
   "metadata": {},
   "source": [
    "### Above are low valued Products"
   ]
  },
  {
   "cell_type": "markdown",
   "metadata": {},
   "source": [
    "    "
   ]
  },
  {
   "cell_type": "code",
   "execution_count": 28,
   "metadata": {},
   "outputs": [
    {
     "data": {
      "text/plain": [
       "<matplotlib.axes._subplots.AxesSubplot at 0x2483697c4e0>"
      ]
     },
     "execution_count": 28,
     "metadata": {},
     "output_type": "execute_result"
    },
    {
     "data": {
      "image/png": "[encoded data removed]",
      "text/plain": [
       "<Figure size 432x288 with 1 Axes>"
      ]
     },
     "metadata": {},
     "output_type": "display_data"
    }
   ],
   "source": [
    "train_Yes['SalesPersonID'].value_counts().sort_values(ascending=False)[:10].plot.bar(color='#819980')"
   ]
  },
  {
   "cell_type": "markdown",
   "metadata": {},
   "source": [
    "### These salesmen made high number of 'Fraud' transactions"
   ]
  },
  {
   "cell_type": "markdown",
   "metadata": {},
   "source": [
    "   "
   ]
  },
  {
   "cell_type": "code",
   "execution_count": 29,
   "metadata": {},
   "outputs": [],
   "source": [
    "total_quantity=train_data['Quantity'].sum()\n",
    "total_totalsalesvalue=train_data['TotalSalesValue'].sum()"
   ]
  },
  {
   "cell_type": "code",
   "execution_count": 30,
   "metadata": {},
   "outputs": [
    {
     "data": {
      "text/plain": [
       "<matplotlib.axes._subplots.AxesSubplot at 0x24836377908>"
      ]
     },
     "execution_count": 30,
     "metadata": {},
     "output_type": "execute_result"
    },
    {
     "data": {
      "image/png": "[encoded data removed]",
      "text/plain": [
       "<Figure size 432x288 with 1 Axes>"
      ]
     },
     "metadata": {},
     "output_type": "display_data"
    }
   ],
   "source": [
    "(((train_data.groupby(train_data['ProductID'])['Quantity'].sum())/(total_quantity))*100).sort_index().sort_values(ascending=False)[:10].plot.bar(color='#819980')"
   ]
  },
  {
   "cell_type": "markdown",
   "metadata": {},
   "source": [
    "#### Top 10 products got saled in abundance amount compared to other products"
   ]
  },
  {
   "cell_type": "markdown",
   "metadata": {},
   "source": [
    "    "
   ]
  },
  {
   "cell_type": "code",
   "execution_count": 31,
   "metadata": {},
   "outputs": [
    {
     "data": {
      "text/plain": [
       "<matplotlib.axes._subplots.AxesSubplot at 0x24836c67710>"
      ]
     },
     "execution_count": 31,
     "metadata": {},
     "output_type": "execute_result"
    },
    {
     "data": {
      "image/png": "[encoded data removed]",
      "text/plain": [
       "<Figure size 432x288 with 1 Axes>"
      ]
     },
     "metadata": {},
     "output_type": "display_data"
    }
   ],
   "source": [
    "(((train_data.groupby(train_data['SalesPersonID'])['Quantity'].sum())/(total_quantity))*100).sort_index().sort_values(ascending=False)[:10].plot.bar(color='#819980')"
   ]
  },
  {
   "cell_type": "markdown",
   "metadata": {},
   "source": [
    "#### Top 10 salesmen who sold high amount of quantity"
   ]
  },
  {
   "cell_type": "markdown",
   "metadata": {},
   "source": [
    "      "
   ]
  },
  {
   "cell_type": "code",
   "execution_count": 32,
   "metadata": {},
   "outputs": [],
   "source": [
    "high_sales_person=train_data.groupby(['SalesPersonID']).sum().sort_values(by='TotalSalesValue',ascending=False).head(10)\n",
    "low_sales_person=train_data.groupby(['SalesPersonID']).sum().sort_values(by='TotalSalesValue',ascending=False).tail(10)"
   ]
  },
  {
   "cell_type": "code",
   "execution_count": 33,
   "metadata": {},
   "outputs": [
    {
     "data": {
      "text/plain": [
       "<matplotlib.axes._subplots.AxesSubplot at 0x2483694a630>"
      ]
     },
     "execution_count": 33,
     "metadata": {},
     "output_type": "execute_result"
    },
    {
     "data": {
      "image/png": "[encoded data removed]",
      "text/plain": [
       "<Figure size 432x288 with 1 Axes>"
      ]
     },
     "metadata": {},
     "output_type": "display_data"
    }
   ],
   "source": [
    "((high_sales_person['TotalSalesValue']/total_totalsalesvalue)*100).plot.bar(color='#819980')"
   ]
  },
  {
   "cell_type": "markdown",
   "metadata": {},
   "source": [
    "#### Top 10 salesmen having high sales value"
   ]
  },
  {
   "cell_type": "markdown",
   "metadata": {},
   "source": [
    "                   "
   ]
  },
  {
   "cell_type": "code",
   "execution_count": 34,
   "metadata": {},
   "outputs": [
    {
     "data": {
      "text/plain": [
       "<matplotlib.axes._subplots.AxesSubplot at 0x2483657c8d0>"
      ]
     },
     "execution_count": 34,
     "metadata": {},
     "output_type": "execute_result"
    },
    {
     "data": {
      "image/png": "[encoded data removed]",
      "text/plain": [
       "<Figure size 432x288 with 1 Axes>"
      ]
     },
     "metadata": {},
     "output_type": "display_data"
    }
   ],
   "source": [
    "((low_sales_person['TotalSalesValue']/total_totalsalesvalue)*100).plot.bar(color='#819980')"
   ]
  },
  {
   "cell_type": "markdown",
   "metadata": {},
   "source": [
    "#### top 10 Salesmen having low sales value"
   ]
  },
  {
   "cell_type": "markdown",
   "metadata": {},
   "source": [
    "      "
   ]
  },
  {
   "cell_type": "code",
   "execution_count": 35,
   "metadata": {},
   "outputs": [],
   "source": [
    "outliers=[]\n",
    "def detect_outlier(data_1):\n",
    "    \n",
    "    threshold=3\n",
    "    mean_1 = np.mean(data_1)\n",
    "    std_1 =np.std(data_1)\n",
    "    \n",
    "    \n",
    "    for y in data_1:\n",
    "        z_score= (y - mean_1)/std_1 \n",
    "        if np.abs(z_score) > threshold:\n",
    "            outliers.append(y)\n",
    "    return outliers"
   ]
  },
  {
   "cell_type": "code",
   "execution_count": 36,
   "metadata": {},
   "outputs": [
    {
     "name": "stdout",
     "output_type": "stream",
     "text": [
      "40\n"
     ]
    }
   ],
   "source": [
    "outlier_datapoints = detect_outlier(train_data['Price_of_oneProduct'])\n",
    "print(len(outlier_datapoints))"
   ]
  },
  {
   "cell_type": "code",
   "execution_count": 37,
   "metadata": {},
   "outputs": [],
   "source": [
    "train_df=train_data.groupby([\"ProductID\"]).median()"
   ]
  },
  {
   "cell_type": "code",
   "execution_count": 38,
   "metadata": {},
   "outputs": [
    {
     "data": {
      "text/html": [
       "<div>\n",
       "<style scoped>\n",
       "    .dataframe tbody tr th:only-of-type {\n",
       "        vertical-align: middle;\n",
       "    }\n",
       "\n",
       "    .dataframe tbody tr th {\n",
       "        vertical-align: top;\n",
       "    }\n",
       "\n",
       "    .dataframe thead th {\n",
       "        text-align: right;\n",
       "    }\n",
       "</style>\n",
       "<table border=\"1\" class=\"dataframe\">\n",
       "  <thead>\n",
       "    <tr style=\"text-align: right;\">\n",
       "      <th></th>\n",
       "      <th>Quantity</th>\n",
       "      <th>TotalSalesValue</th>\n",
       "      <th>Price_of_oneProduct</th>\n",
       "    </tr>\n",
       "  </thead>\n",
       "  <tbody>\n",
       "    <tr>\n",
       "      <th>count</th>\n",
       "      <td>593.000000</td>\n",
       "      <td>593.000000</td>\n",
       "      <td>593.000000</td>\n",
       "    </tr>\n",
       "    <tr>\n",
       "      <th>mean</th>\n",
       "      <td>3785.749578</td>\n",
       "      <td>8782.508432</td>\n",
       "      <td>10.499033</td>\n",
       "    </tr>\n",
       "    <tr>\n",
       "      <th>std</th>\n",
       "      <td>15485.057554</td>\n",
       "      <td>14432.507902</td>\n",
       "      <td>8.049066</td>\n",
       "    </tr>\n",
       "    <tr>\n",
       "      <th>min</th>\n",
       "      <td>49.000000</td>\n",
       "      <td>1010.000000</td>\n",
       "      <td>0.221817</td>\n",
       "    </tr>\n",
       "    <tr>\n",
       "      <th>25%</th>\n",
       "      <td>127.000000</td>\n",
       "      <td>1767.500000</td>\n",
       "      <td>5.299406</td>\n",
       "    </tr>\n",
       "    <tr>\n",
       "      <th>50%</th>\n",
       "      <td>307.000000</td>\n",
       "      <td>3515.000000</td>\n",
       "      <td>9.891914</td>\n",
       "    </tr>\n",
       "    <tr>\n",
       "      <th>75%</th>\n",
       "      <td>1788.000000</td>\n",
       "      <td>9120.000000</td>\n",
       "      <td>12.836538</td>\n",
       "    </tr>\n",
       "    <tr>\n",
       "      <th>max</th>\n",
       "      <td>252146.000000</td>\n",
       "      <td>119640.000000</td>\n",
       "      <td>78.850932</td>\n",
       "    </tr>\n",
       "  </tbody>\n",
       "</table>\n",
       "</div>"
      ],
      "text/plain": [
       "            Quantity  TotalSalesValue  Price_of_oneProduct\n",
       "count     593.000000       593.000000           593.000000\n",
       "mean     3785.749578      8782.508432            10.499033\n",
       "std     15485.057554     14432.507902             8.049066\n",
       "min        49.000000      1010.000000             0.221817\n",
       "25%       127.000000      1767.500000             5.299406\n",
       "50%       307.000000      3515.000000             9.891914\n",
       "75%      1788.000000      9120.000000            12.836538\n",
       "max    252146.000000    119640.000000            78.850932"
      ]
     },
     "execution_count": 38,
     "metadata": {},
     "output_type": "execute_result"
    }
   ],
   "source": [
    "train_df.describe(include='all')"
   ]
  },
  {
   "cell_type": "code",
   "execution_count": 39,
   "metadata": {},
   "outputs": [],
   "source": [
    "train_df=train_df.drop(['TotalSalesValue','Quantity'],axis = 1)"
   ]
  },
  {
   "cell_type": "code",
   "execution_count": 40,
   "metadata": {},
   "outputs": [
    {
     "data": {
      "text/plain": [
       "pandas.core.frame.DataFrame"
      ]
     },
     "execution_count": 40,
     "metadata": {},
     "output_type": "execute_result"
    }
   ],
   "source": [
    "type(train_df)"
   ]
  },
  {
   "cell_type": "code",
   "execution_count": 41,
   "metadata": {},
   "outputs": [],
   "source": [
    "train_df=train_df.rename(columns={'Price_of_oneProduct': 'Avg_of_eachProduct'})"
   ]
  },
  {
   "cell_type": "code",
   "execution_count": 42,
   "metadata": {},
   "outputs": [
    {
     "data": {
      "text/html": [
       "<div>\n",
       "<style scoped>\n",
       "    .dataframe tbody tr th:only-of-type {\n",
       "        vertical-align: middle;\n",
       "    }\n",
       "\n",
       "    .dataframe tbody tr th {\n",
       "        vertical-align: top;\n",
       "    }\n",
       "\n",
       "    .dataframe thead th {\n",
       "        text-align: right;\n",
       "    }\n",
       "</style>\n",
       "<table border=\"1\" class=\"dataframe\">\n",
       "  <thead>\n",
       "    <tr style=\"text-align: right;\">\n",
       "      <th></th>\n",
       "      <th>ReportID</th>\n",
       "      <th>SalesPersonID</th>\n",
       "      <th>ProductID</th>\n",
       "      <th>Quantity</th>\n",
       "      <th>TotalSalesValue</th>\n",
       "      <th>Suspicious</th>\n",
       "      <th>Price_of_oneProduct</th>\n",
       "      <th>Avg_of_eachProduct</th>\n",
       "    </tr>\n",
       "  </thead>\n",
       "  <tbody>\n",
       "    <tr>\n",
       "      <th>count</th>\n",
       "      <td>42582</td>\n",
       "      <td>42582</td>\n",
       "      <td>42582</td>\n",
       "      <td>4.258200e+04</td>\n",
       "      <td>4.258200e+04</td>\n",
       "      <td>42582</td>\n",
       "      <td>42582.000000</td>\n",
       "      <td>42582.000000</td>\n",
       "    </tr>\n",
       "    <tr>\n",
       "      <th>unique</th>\n",
       "      <td>42582</td>\n",
       "      <td>992</td>\n",
       "      <td>593</td>\n",
       "      <td>NaN</td>\n",
       "      <td>NaN</td>\n",
       "      <td>3</td>\n",
       "      <td>NaN</td>\n",
       "      <td>NaN</td>\n",
       "    </tr>\n",
       "    <tr>\n",
       "      <th>top</th>\n",
       "      <td>Rep52682</td>\n",
       "      <td>C21976</td>\n",
       "      <td>PR6253</td>\n",
       "      <td>NaN</td>\n",
       "      <td>NaN</td>\n",
       "      <td>indeterminate</td>\n",
       "      <td>NaN</td>\n",
       "      <td>NaN</td>\n",
       "    </tr>\n",
       "    <tr>\n",
       "      <th>freq</th>\n",
       "      <td>1</td>\n",
       "      <td>1359</td>\n",
       "      <td>2590</td>\n",
       "      <td>NaN</td>\n",
       "      <td>NaN</td>\n",
       "      <td>39846</td>\n",
       "      <td>NaN</td>\n",
       "      <td>NaN</td>\n",
       "    </tr>\n",
       "    <tr>\n",
       "      <th>mean</th>\n",
       "      <td>NaN</td>\n",
       "      <td>NaN</td>\n",
       "      <td>NaN</td>\n",
       "      <td>4.910048e+03</td>\n",
       "      <td>1.620923e+04</td>\n",
       "      <td>NaN</td>\n",
       "      <td>16.372971</td>\n",
       "      <td>11.942390</td>\n",
       "    </tr>\n",
       "    <tr>\n",
       "      <th>std</th>\n",
       "      <td>NaN</td>\n",
       "      <td>NaN</td>\n",
       "      <td>NaN</td>\n",
       "      <td>9.833621e+04</td>\n",
       "      <td>5.997195e+04</td>\n",
       "      <td>NaN</td>\n",
       "      <td>79.544612</td>\n",
       "      <td>6.945922</td>\n",
       "    </tr>\n",
       "    <tr>\n",
       "      <th>min</th>\n",
       "      <td>NaN</td>\n",
       "      <td>NaN</td>\n",
       "      <td>NaN</td>\n",
       "      <td>3.300000e+01</td>\n",
       "      <td>5.980000e+02</td>\n",
       "      <td>NaN</td>\n",
       "      <td>0.005320</td>\n",
       "      <td>0.221817</td>\n",
       "    </tr>\n",
       "    <tr>\n",
       "      <th>25%</th>\n",
       "      <td>NaN</td>\n",
       "      <td>NaN</td>\n",
       "      <td>NaN</td>\n",
       "      <td>1.110000e+02</td>\n",
       "      <td>1.345000e+03</td>\n",
       "      <td>NaN</td>\n",
       "      <td>6.781874</td>\n",
       "      <td>7.874892</td>\n",
       "    </tr>\n",
       "    <tr>\n",
       "      <th>50%</th>\n",
       "      <td>NaN</td>\n",
       "      <td>NaN</td>\n",
       "      <td>NaN</td>\n",
       "      <td>2.060000e+02</td>\n",
       "      <td>2.980000e+03</td>\n",
       "      <td>NaN</td>\n",
       "      <td>10.742574</td>\n",
       "      <td>10.990099</td>\n",
       "    </tr>\n",
       "    <tr>\n",
       "      <th>75%</th>\n",
       "      <td>NaN</td>\n",
       "      <td>NaN</td>\n",
       "      <td>NaN</td>\n",
       "      <td>1.136000e+03</td>\n",
       "      <td>1.076500e+04</td>\n",
       "      <td>NaN</td>\n",
       "      <td>16.385542</td>\n",
       "      <td>14.295775</td>\n",
       "    </tr>\n",
       "    <tr>\n",
       "      <th>max</th>\n",
       "      <td>NaN</td>\n",
       "      <td>NaN</td>\n",
       "      <td>NaN</td>\n",
       "      <td>1.970813e+07</td>\n",
       "      <td>3.953985e+06</td>\n",
       "      <td>NaN</td>\n",
       "      <td>11297.100000</td>\n",
       "      <td>78.850932</td>\n",
       "    </tr>\n",
       "  </tbody>\n",
       "</table>\n",
       "</div>"
      ],
      "text/plain": [
       "        ReportID SalesPersonID ProductID      Quantity  TotalSalesValue  \\\n",
       "count      42582         42582     42582  4.258200e+04     4.258200e+04   \n",
       "unique     42582           992       593           NaN              NaN   \n",
       "top     Rep52682        C21976    PR6253           NaN              NaN   \n",
       "freq           1          1359      2590           NaN              NaN   \n",
       "mean         NaN           NaN       NaN  4.910048e+03     1.620923e+04   \n",
       "std          NaN           NaN       NaN  9.833621e+04     5.997195e+04   \n",
       "min          NaN           NaN       NaN  3.300000e+01     5.980000e+02   \n",
       "25%          NaN           NaN       NaN  1.110000e+02     1.345000e+03   \n",
       "50%          NaN           NaN       NaN  2.060000e+02     2.980000e+03   \n",
       "75%          NaN           NaN       NaN  1.136000e+03     1.076500e+04   \n",
       "max          NaN           NaN       NaN  1.970813e+07     3.953985e+06   \n",
       "\n",
       "           Suspicious  Price_of_oneProduct  Avg_of_eachProduct  \n",
       "count           42582         42582.000000        42582.000000  \n",
       "unique              3                  NaN                 NaN  \n",
       "top     indeterminate                  NaN                 NaN  \n",
       "freq            39846                  NaN                 NaN  \n",
       "mean              NaN            16.372971           11.942390  \n",
       "std               NaN            79.544612            6.945922  \n",
       "min               NaN             0.005320            0.221817  \n",
       "25%               NaN             6.781874            7.874892  \n",
       "50%               NaN            10.742574           10.990099  \n",
       "75%               NaN            16.385542           14.295775  \n",
       "max               NaN         11297.100000           78.850932  "
      ]
     },
     "execution_count": 42,
     "metadata": {},
     "output_type": "execute_result"
    }
   ],
   "source": [
    "train_updated = train_data.join(train_df, on='ProductID')\n",
    "train_updated.describe(include='all')"
   ]
  },
  {
   "cell_type": "code",
   "execution_count": 43,
   "metadata": {},
   "outputs": [
    {
     "data": {
      "text/plain": [
       "<matplotlib.axes._subplots.AxesSubplot at 0x248367d3e10>"
      ]
     },
     "execution_count": 43,
     "metadata": {},
     "output_type": "execute_result"
    },
    {
     "data": {
      "image/png": "[encoded data removed]",
      "text/plain": [
       "<Figure size 432x288 with 1 Axes>"
      ]
     },
     "metadata": {},
     "output_type": "display_data"
    }
   ],
   "source": [
    "sns.boxplot(x=train_updated['TotalSalesValue'],orient='v')"
   ]
  },
  {
   "cell_type": "code",
   "execution_count": 44,
   "metadata": {},
   "outputs": [
    {
     "name": "stdout",
     "output_type": "stream",
     "text": [
      "Quantity               1025.000000\n",
      "TotalSalesValue        9420.000000\n",
      "Price_of_oneProduct       9.603668\n",
      "Avg_of_eachProduct        6.420883\n",
      "dtype: float64\n"
     ]
    }
   ],
   "source": [
    "Q1 = train_updated.quantile(0.25)\n",
    "Q3 = train_updated.quantile(0.75)\n",
    "IQR = Q3 - Q1\n",
    "print(IQR)"
   ]
  },
  {
   "cell_type": "code",
   "execution_count": 45,
   "metadata": {},
   "outputs": [],
   "source": [
    "data1 = train_updated.groupby(['SalesPersonID'])[['TotalSalesValue']].median()\n",
    "data1 = data1.rename(columns={'TotalSalesValue': 'Average sales per person'})\n",
    "train_updated = train_updated.join(data1,on = ['SalesPersonID'])"
   ]
  },
  {
   "cell_type": "code",
   "execution_count": 46,
   "metadata": {},
   "outputs": [
    {
     "data": {
      "text/html": [
       "<div>\n",
       "<style scoped>\n",
       "    .dataframe tbody tr th:only-of-type {\n",
       "        vertical-align: middle;\n",
       "    }\n",
       "\n",
       "    .dataframe tbody tr th {\n",
       "        vertical-align: top;\n",
       "    }\n",
       "\n",
       "    .dataframe thead th {\n",
       "        text-align: right;\n",
       "    }\n",
       "</style>\n",
       "<table border=\"1\" class=\"dataframe\">\n",
       "  <thead>\n",
       "    <tr style=\"text-align: right;\">\n",
       "      <th></th>\n",
       "      <th>ReportID</th>\n",
       "      <th>SalesPersonID</th>\n",
       "      <th>ProductID</th>\n",
       "      <th>Quantity</th>\n",
       "      <th>TotalSalesValue</th>\n",
       "      <th>Suspicious</th>\n",
       "      <th>Price_of_oneProduct</th>\n",
       "      <th>Avg_of_eachProduct</th>\n",
       "      <th>Average sales per person</th>\n",
       "    </tr>\n",
       "  </thead>\n",
       "  <tbody>\n",
       "    <tr>\n",
       "      <th>0</th>\n",
       "      <td>Rep10101</td>\n",
       "      <td>C21116</td>\n",
       "      <td>PR6112</td>\n",
       "      <td>182</td>\n",
       "      <td>1665</td>\n",
       "      <td>indeterminate</td>\n",
       "      <td>9.148352</td>\n",
       "      <td>11.420455</td>\n",
       "      <td>1740.0</td>\n",
       "    </tr>\n",
       "    <tr>\n",
       "      <th>1</th>\n",
       "      <td>Rep10102</td>\n",
       "      <td>C21116</td>\n",
       "      <td>PR6112</td>\n",
       "      <td>182</td>\n",
       "      <td>1740</td>\n",
       "      <td>indeterminate</td>\n",
       "      <td>9.560440</td>\n",
       "      <td>11.420455</td>\n",
       "      <td>1740.0</td>\n",
       "    </tr>\n",
       "    <tr>\n",
       "      <th>2</th>\n",
       "      <td>Rep10103</td>\n",
       "      <td>C21116</td>\n",
       "      <td>PR6253</td>\n",
       "      <td>101</td>\n",
       "      <td>1040</td>\n",
       "      <td>indeterminate</td>\n",
       "      <td>10.297030</td>\n",
       "      <td>11.208791</td>\n",
       "      <td>1740.0</td>\n",
       "    </tr>\n",
       "    <tr>\n",
       "      <th>3</th>\n",
       "      <td>Rep10104</td>\n",
       "      <td>C21116</td>\n",
       "      <td>PR6253</td>\n",
       "      <td>283</td>\n",
       "      <td>4495</td>\n",
       "      <td>No</td>\n",
       "      <td>15.883392</td>\n",
       "      <td>11.208791</td>\n",
       "      <td>1740.0</td>\n",
       "    </tr>\n",
       "    <tr>\n",
       "      <th>4</th>\n",
       "      <td>Rep10105</td>\n",
       "      <td>C21116</td>\n",
       "      <td>PR6294</td>\n",
       "      <td>108</td>\n",
       "      <td>1465</td>\n",
       "      <td>indeterminate</td>\n",
       "      <td>13.564815</td>\n",
       "      <td>13.354430</td>\n",
       "      <td>1740.0</td>\n",
       "    </tr>\n",
       "  </tbody>\n",
       "</table>\n",
       "</div>"
      ],
      "text/plain": [
       "   ReportID SalesPersonID ProductID  Quantity  TotalSalesValue     Suspicious  \\\n",
       "0  Rep10101        C21116    PR6112       182             1665  indeterminate   \n",
       "1  Rep10102        C21116    PR6112       182             1740  indeterminate   \n",
       "2  Rep10103        C21116    PR6253       101             1040  indeterminate   \n",
       "3  Rep10104        C21116    PR6253       283             4495             No   \n",
       "4  Rep10105        C21116    PR6294       108             1465  indeterminate   \n",
       "\n",
       "   Price_of_oneProduct  Avg_of_eachProduct  Average sales per person  \n",
       "0             9.148352           11.420455                    1740.0  \n",
       "1             9.560440           11.420455                    1740.0  \n",
       "2            10.297030           11.208791                    1740.0  \n",
       "3            15.883392           11.208791                    1740.0  \n",
       "4            13.564815           13.354430                    1740.0  "
      ]
     },
     "execution_count": 46,
     "metadata": {},
     "output_type": "execute_result"
    }
   ],
   "source": [
    "train_updated.head()"
   ]
  },
  {
   "cell_type": "code",
   "execution_count": 47,
   "metadata": {},
   "outputs": [
    {
     "name": "stdout",
     "output_type": "stream",
     "text": [
      "531\n"
     ]
    }
   ],
   "source": [
    "outlier_datapoints = detect_outlier(train_data['TotalSalesValue'])\n",
    "print(len(outlier_datapoints))"
   ]
  },
  {
   "cell_type": "code",
   "execution_count": 48,
   "metadata": {},
   "outputs": [],
   "source": [
    "data2 = train_updated.groupby(['SalesPersonID'])[['Quantity']].mean()\n",
    "data2 = data2.rename(columns={'Quantity': 'Average amount Quantity per Person'})\n",
    "train_updated = train_updated.join(data2,on=['SalesPersonID'])"
   ]
  },
  {
   "cell_type": "code",
   "execution_count": 49,
   "metadata": {},
   "outputs": [],
   "source": [
    "data3 = train_updated.groupby(['SalesPersonID'])[['ProductID']].count()\n",
    "data3 = data3.rename(columns={'ProductID': 'No of products per person'})\n",
    "train_updated = train_updated.join(data3,on=['SalesPersonID'])"
   ]
  },
  {
   "cell_type": "code",
   "execution_count": 50,
   "metadata": {},
   "outputs": [],
   "source": [
    "data4 = train_updated.groupby(['SalesPersonID','ProductID'])[['Quantity']].sum()\n",
    "data4=data4.rename(columns={'Quantity': 'sum of each product quuantity per person'})\n",
    "train_updated = train_updated.join(data4,on=['SalesPersonID','ProductID'])"
   ]
  },
  {
   "cell_type": "code",
   "execution_count": 51,
   "metadata": {},
   "outputs": [],
   "source": [
    "data5 = train_updated.groupby(['SalesPersonID','ProductID'])[['TotalSalesValue']].sum()\n",
    "data5 =data5.rename(columns={'TotalSalesValue': 'sum of each product sales per person'})\n",
    "train_updated = train_updated.join(data5,on=['SalesPersonID','ProductID'])"
   ]
  },
  {
   "cell_type": "code",
   "execution_count": 52,
   "metadata": {},
   "outputs": [],
   "source": [
    "data6 = train_updated.groupby(['SalesPersonID','ProductID'])[['TotalSalesValue']].median()\n",
    "data6 =data6.rename(columns={'TotalSalesValue': 'Avg of each product sales per person'})\n",
    "train_updated = train_updated.join(data6,on=['SalesPersonID','ProductID'])"
   ]
  },
  {
   "cell_type": "code",
   "execution_count": 53,
   "metadata": {},
   "outputs": [],
   "source": [
    "data7 = train_updated.groupby(['SalesPersonID','ProductID'])[['Quantity']].mean()\n",
    "data7 =data7.rename(columns={'Quantity': 'Avg of each product quuantity per person'})\n",
    "train_updated = train_updated.join(data7,on=['SalesPersonID','ProductID'])"
   ]
  },
  {
   "cell_type": "code",
   "execution_count": 54,
   "metadata": {},
   "outputs": [],
   "source": [
    "data8=train_updated.groupby(['ProductID'])[['Quantity']].mean()\n",
    "data8 = data8.rename(columns={'Quantity': 'Average amount Quantity per Product'})\n",
    "train_updated = train_updated.join(data8,on=['ProductID'])"
   ]
  },
  {
   "cell_type": "code",
   "execution_count": 55,
   "metadata": {},
   "outputs": [],
   "source": [
    "data9=train_updated.groupby(['ProductID'])[['TotalSalesValue']].median()\n",
    "data9 = data9.rename(columns={'TotalSalesValue': 'Average sales per Product'})\n",
    "train_updated = train_updated.join(data9,on=['ProductID'])"
   ]
  },
  {
   "cell_type": "code",
   "execution_count": 56,
   "metadata": {},
   "outputs": [
    {
     "data": {
      "text/plain": [
       "(42582, 17)"
      ]
     },
     "execution_count": 56,
     "metadata": {},
     "output_type": "execute_result"
    }
   ],
   "source": [
    "train_updated.shape"
   ]
  },
  {
   "cell_type": "markdown",
   "metadata": {},
   "source": [
    "train_updated.to_csv('feature_eng.csv',index=False)"
   ]
  },
  {
   "cell_type": "code",
   "execution_count": null,
   "metadata": {},
   "outputs": [],
   "source": []
  }
 ],
 "metadata": {
  "kernelspec": {
   "display_name": "Python 3",
   "language": "python",
   "name": "python3"
  },
  "language_info": {
   "codemirror_mode": {
    "name": "ipython",
    "version": 3
   },
   "file_extension": ".py",
   "mimetype": "text/x-python",
   "name": "python",
   "nbconvert_exporter": "python",
   "pygments_lexer": "ipython3",
   "version": "3.6.5"
  }
 },
 "nbformat": 4,
 "nbformat_minor": 2
}
