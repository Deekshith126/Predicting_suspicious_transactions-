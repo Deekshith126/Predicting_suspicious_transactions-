{
 "cells": [
  {
   "cell_type": "code",
   "execution_count": 1,
   "metadata": {},
   "outputs": [],
   "source": [
    "import pandas as pd\n",
    "import numpy as np\n",
    "import matplotlib.pyplot as plt\n",
    "%matplotlib inline\n",
    "import seaborn as sns\n",
    "import warnings\n",
    "warnings.filterwarnings('ignore')"
   ]
  },
  {
   "cell_type": "code",
   "execution_count": 2,
   "metadata": {},
   "outputs": [],
   "source": [
    "import os\n",
    "os.chdir(\"C:\\\\Users\\\\deeks\\\\Documents\\\\PhD\\\\PHD_TrainData_and_ProblemStatement-1558070454703\\\\PHD_TrainData_and_ProblemStatement\")"
   ]
  },
  {
   "cell_type": "code",
   "execution_count": 3,
   "metadata": {},
   "outputs": [],
   "source": [
    "train_data=pd.read_excel(\"Train.xlsx\",header=0)\n",
    "test_data=pd.read_excel(\"Test.xlsx\",header=0)"
   ]
  },
  {
   "cell_type": "code",
   "execution_count": 4,
   "metadata": {},
   "outputs": [
    {
     "data": {
      "text/html": [
       "<div>\n",
       "<style scoped>\n",
       "    .dataframe tbody tr th:only-of-type {\n",
       "        vertical-align: middle;\n",
       "    }\n",
       "\n",
       "    .dataframe tbody tr th {\n",
       "        vertical-align: top;\n",
       "    }\n",
       "\n",
       "    .dataframe thead th {\n",
       "        text-align: right;\n",
       "    }\n",
       "</style>\n",
       "<table border=\"1\" class=\"dataframe\">\n",
       "  <thead>\n",
       "    <tr style=\"text-align: right;\">\n",
       "      <th></th>\n",
       "      <th>ReportID</th>\n",
       "      <th>SalesPersonID</th>\n",
       "      <th>ProductID</th>\n",
       "      <th>Quantity</th>\n",
       "      <th>TotalSalesValue</th>\n",
       "      <th>Suspicious</th>\n",
       "    </tr>\n",
       "  </thead>\n",
       "  <tbody>\n",
       "    <tr>\n",
       "      <th>0</th>\n",
       "      <td>Rep10101</td>\n",
       "      <td>C21116</td>\n",
       "      <td>PR6112</td>\n",
       "      <td>182</td>\n",
       "      <td>1665</td>\n",
       "      <td>indeterminate</td>\n",
       "    </tr>\n",
       "    <tr>\n",
       "      <th>1</th>\n",
       "      <td>Rep10102</td>\n",
       "      <td>C21116</td>\n",
       "      <td>PR6112</td>\n",
       "      <td>182</td>\n",
       "      <td>1740</td>\n",
       "      <td>indeterminate</td>\n",
       "    </tr>\n",
       "    <tr>\n",
       "      <th>2</th>\n",
       "      <td>Rep10103</td>\n",
       "      <td>C21116</td>\n",
       "      <td>PR6253</td>\n",
       "      <td>101</td>\n",
       "      <td>1040</td>\n",
       "      <td>indeterminate</td>\n",
       "    </tr>\n",
       "    <tr>\n",
       "      <th>3</th>\n",
       "      <td>Rep10104</td>\n",
       "      <td>C21116</td>\n",
       "      <td>PR6253</td>\n",
       "      <td>283</td>\n",
       "      <td>4495</td>\n",
       "      <td>No</td>\n",
       "    </tr>\n",
       "    <tr>\n",
       "      <th>4</th>\n",
       "      <td>Rep10105</td>\n",
       "      <td>C21116</td>\n",
       "      <td>PR6294</td>\n",
       "      <td>108</td>\n",
       "      <td>1465</td>\n",
       "      <td>indeterminate</td>\n",
       "    </tr>\n",
       "  </tbody>\n",
       "</table>\n",
       "</div>"
      ],
      "text/plain": [
       "   ReportID SalesPersonID ProductID  Quantity  TotalSalesValue     Suspicious\n",
       "0  Rep10101        C21116    PR6112       182             1665  indeterminate\n",
       "1  Rep10102        C21116    PR6112       182             1740  indeterminate\n",
       "2  Rep10103        C21116    PR6253       101             1040  indeterminate\n",
       "3  Rep10104        C21116    PR6253       283             4495             No\n",
       "4  Rep10105        C21116    PR6294       108             1465  indeterminate"
      ]
     },
     "execution_count": 4,
     "metadata": {},
     "output_type": "execute_result"
    }
   ],
   "source": [
    "train_data.head()"
   ]
  },
  {
   "cell_type": "code",
   "execution_count": 5,
   "metadata": {},
   "outputs": [
    {
     "data": {
      "text/plain": [
       "ReportID           0\n",
       "SalesPersonID      0\n",
       "ProductID          0\n",
       "Quantity           0\n",
       "TotalSalesValue    0\n",
       "dtype: int64"
      ]
     },
     "execution_count": 5,
     "metadata": {},
     "output_type": "execute_result"
    }
   ],
   "source": [
    "test_data.isnull().sum()"
   ]
  },
  {
   "cell_type": "code",
   "execution_count": 6,
   "metadata": {},
   "outputs": [
    {
     "data": {
      "text/html": [
       "<div>\n",
       "<style scoped>\n",
       "    .dataframe tbody tr th:only-of-type {\n",
       "        vertical-align: middle;\n",
       "    }\n",
       "\n",
       "    .dataframe tbody tr th {\n",
       "        vertical-align: top;\n",
       "    }\n",
       "\n",
       "    .dataframe thead th {\n",
       "        text-align: right;\n",
       "    }\n",
       "</style>\n",
       "<table border=\"1\" class=\"dataframe\">\n",
       "  <thead>\n",
       "    <tr style=\"text-align: right;\">\n",
       "      <th></th>\n",
       "      <th>ReportID</th>\n",
       "      <th>SalesPersonID</th>\n",
       "      <th>ProductID</th>\n",
       "      <th>Quantity</th>\n",
       "      <th>TotalSalesValue</th>\n",
       "      <th>Suspicious</th>\n",
       "    </tr>\n",
       "  </thead>\n",
       "  <tbody>\n",
       "    <tr>\n",
       "      <th>count</th>\n",
       "      <td>42582</td>\n",
       "      <td>42582</td>\n",
       "      <td>42582</td>\n",
       "      <td>4.258200e+04</td>\n",
       "      <td>4.258200e+04</td>\n",
       "      <td>42582</td>\n",
       "    </tr>\n",
       "    <tr>\n",
       "      <th>unique</th>\n",
       "      <td>42582</td>\n",
       "      <td>992</td>\n",
       "      <td>593</td>\n",
       "      <td>NaN</td>\n",
       "      <td>NaN</td>\n",
       "      <td>3</td>\n",
       "    </tr>\n",
       "    <tr>\n",
       "      <th>top</th>\n",
       "      <td>Rep13814</td>\n",
       "      <td>C21976</td>\n",
       "      <td>PR6253</td>\n",
       "      <td>NaN</td>\n",
       "      <td>NaN</td>\n",
       "      <td>indeterminate</td>\n",
       "    </tr>\n",
       "    <tr>\n",
       "      <th>freq</th>\n",
       "      <td>1</td>\n",
       "      <td>1359</td>\n",
       "      <td>2590</td>\n",
       "      <td>NaN</td>\n",
       "      <td>NaN</td>\n",
       "      <td>39846</td>\n",
       "    </tr>\n",
       "    <tr>\n",
       "      <th>mean</th>\n",
       "      <td>NaN</td>\n",
       "      <td>NaN</td>\n",
       "      <td>NaN</td>\n",
       "      <td>4.910048e+03</td>\n",
       "      <td>1.620923e+04</td>\n",
       "      <td>NaN</td>\n",
       "    </tr>\n",
       "    <tr>\n",
       "      <th>std</th>\n",
       "      <td>NaN</td>\n",
       "      <td>NaN</td>\n",
       "      <td>NaN</td>\n",
       "      <td>9.833621e+04</td>\n",
       "      <td>5.997195e+04</td>\n",
       "      <td>NaN</td>\n",
       "    </tr>\n",
       "    <tr>\n",
       "      <th>min</th>\n",
       "      <td>NaN</td>\n",
       "      <td>NaN</td>\n",
       "      <td>NaN</td>\n",
       "      <td>3.300000e+01</td>\n",
       "      <td>5.980000e+02</td>\n",
       "      <td>NaN</td>\n",
       "    </tr>\n",
       "    <tr>\n",
       "      <th>25%</th>\n",
       "      <td>NaN</td>\n",
       "      <td>NaN</td>\n",
       "      <td>NaN</td>\n",
       "      <td>1.110000e+02</td>\n",
       "      <td>1.345000e+03</td>\n",
       "      <td>NaN</td>\n",
       "    </tr>\n",
       "    <tr>\n",
       "      <th>50%</th>\n",
       "      <td>NaN</td>\n",
       "      <td>NaN</td>\n",
       "      <td>NaN</td>\n",
       "      <td>2.060000e+02</td>\n",
       "      <td>2.980000e+03</td>\n",
       "      <td>NaN</td>\n",
       "    </tr>\n",
       "    <tr>\n",
       "      <th>75%</th>\n",
       "      <td>NaN</td>\n",
       "      <td>NaN</td>\n",
       "      <td>NaN</td>\n",
       "      <td>1.136000e+03</td>\n",
       "      <td>1.076500e+04</td>\n",
       "      <td>NaN</td>\n",
       "    </tr>\n",
       "    <tr>\n",
       "      <th>max</th>\n",
       "      <td>NaN</td>\n",
       "      <td>NaN</td>\n",
       "      <td>NaN</td>\n",
       "      <td>1.970813e+07</td>\n",
       "      <td>3.953985e+06</td>\n",
       "      <td>NaN</td>\n",
       "    </tr>\n",
       "  </tbody>\n",
       "</table>\n",
       "</div>"
      ],
      "text/plain": [
       "        ReportID SalesPersonID ProductID      Quantity  TotalSalesValue  \\\n",
       "count      42582         42582     42582  4.258200e+04     4.258200e+04   \n",
       "unique     42582           992       593           NaN              NaN   \n",
       "top     Rep13814        C21976    PR6253           NaN              NaN   \n",
       "freq           1          1359      2590           NaN              NaN   \n",
       "mean         NaN           NaN       NaN  4.910048e+03     1.620923e+04   \n",
       "std          NaN           NaN       NaN  9.833621e+04     5.997195e+04   \n",
       "min          NaN           NaN       NaN  3.300000e+01     5.980000e+02   \n",
       "25%          NaN           NaN       NaN  1.110000e+02     1.345000e+03   \n",
       "50%          NaN           NaN       NaN  2.060000e+02     2.980000e+03   \n",
       "75%          NaN           NaN       NaN  1.136000e+03     1.076500e+04   \n",
       "max          NaN           NaN       NaN  1.970813e+07     3.953985e+06   \n",
       "\n",
       "           Suspicious  \n",
       "count           42582  \n",
       "unique              3  \n",
       "top     indeterminate  \n",
       "freq            39846  \n",
       "mean              NaN  \n",
       "std               NaN  \n",
       "min               NaN  \n",
       "25%               NaN  \n",
       "50%               NaN  \n",
       "75%               NaN  \n",
       "max               NaN  "
      ]
     },
     "execution_count": 6,
     "metadata": {},
     "output_type": "execute_result"
    }
   ],
   "source": [
    "train_data.describe(include='all')"
   ]
  },
  {
   "cell_type": "code",
   "execution_count": 7,
   "metadata": {},
   "outputs": [
    {
     "name": "stdout",
     "output_type": "stream",
     "text": [
      "(593,)\n",
      "(992,)\n",
      "(42582,)\n"
     ]
    }
   ],
   "source": [
    "print(train_data.ProductID.unique().shape)\n",
    "print(train_data.SalesPersonID.unique().shape)\n",
    "print(train_data.ReportID.unique().shape)"
   ]
  },
  {
   "cell_type": "code",
   "execution_count": 8,
   "metadata": {},
   "outputs": [
    {
     "data": {
      "text/plain": [
       "indeterminate    93.574750\n",
       "No                6.000188\n",
       "Yes               0.425062\n",
       "Name: Suspicious, dtype: float64"
      ]
     },
     "execution_count": 8,
     "metadata": {},
     "output_type": "execute_result"
    }
   ],
   "source": [
    "100*train_data.Suspicious.value_counts()/len(train_data.Suspicious)"
   ]
  },
  {
   "cell_type": "code",
   "execution_count": 9,
   "metadata": {},
   "outputs": [],
   "source": [
    "y = train_data[\"Suspicious\"]\n",
    "X = train_data.drop('Suspicious', axis = 1)"
   ]
  },
  {
   "cell_type": "code",
   "execution_count": 10,
   "metadata": {},
   "outputs": [],
   "source": [
    "from sklearn.model_selection import train_test_split\n",
    "X_train,X_test,y_train,y_test=train_test_split(X,y,test_size=0.2,stratify=y,random_state=0)"
   ]
  },
  {
   "cell_type": "code",
   "execution_count": 11,
   "metadata": {},
   "outputs": [],
   "source": [
    "X_train['Price_of_oneProduct'] = X_train.apply(lambda row: row.TotalSalesValue / row.Quantity, axis = 1)\n",
    "X_test['Price_of_oneProduct'] = X_test.apply(lambda row: row.TotalSalesValue / row.Quantity, axis = 1)"
   ]
  },
  {
   "cell_type": "code",
   "execution_count": 12,
   "metadata": {},
   "outputs": [],
   "source": [
    "X_train_df=X_train.groupby([\"ProductID\"]).median()\n",
    "X_test_df=X_test.groupby([\"ProductID\"]).median()"
   ]
  },
  {
   "cell_type": "code",
   "execution_count": 13,
   "metadata": {},
   "outputs": [],
   "source": [
    "X_train_df=X_train_df.drop(['TotalSalesValue','Quantity'],axis = 1)\n",
    "X_test_df=X_test_df.drop(['TotalSalesValue','Quantity'],axis = 1)"
   ]
  },
  {
   "cell_type": "code",
   "execution_count": 14,
   "metadata": {},
   "outputs": [],
   "source": [
    "X_train_df=X_train_df.rename(columns={'Price_of_oneProduct': 'Avg_of_eachProduct'})\n",
    "X_test_df=X_test_df.rename(columns={'Price_of_oneProduct': 'Avg_of_eachProduct'})"
   ]
  },
  {
   "cell_type": "code",
   "execution_count": 15,
   "metadata": {},
   "outputs": [],
   "source": [
    "X_train_updated = X_train.join(X_train_df, on='ProductID')\n",
    "X_test_updated = X_test.join(X_test_df, on='ProductID')"
   ]
  },
  {
   "cell_type": "markdown",
   "metadata": {},
   "source": [
    "X_train_data1 = X_train_updated.groupby(['SalesPersonID'])[['TotalSalesValue']].median()\n",
    "X_train_data1 = X_train_data1.rename(columns={'TotalSalesValue': 'Average sales per person'})\n",
    "X_train_updated = X_train_updated.join(X_train_data1,on = ['SalesPersonID'])"
   ]
  },
  {
   "cell_type": "markdown",
   "metadata": {},
   "source": [
    "X_test_data1 = X_test_updated.groupby(['SalesPersonID'])[['TotalSalesValue']].median()\n",
    "X_test_data1 = X_test_data1.rename(columns={'TotalSalesValue': 'Average sales per person'})\n",
    "X_test_updated = X_test_updated.join(X_test_data1,on = ['SalesPersonID'])"
   ]
  },
  {
   "cell_type": "code",
   "execution_count": 16,
   "metadata": {},
   "outputs": [
    {
     "name": "stdout",
     "output_type": "stream",
     "text": [
      "(34065, 7)\n",
      "(8517, 7)\n"
     ]
    }
   ],
   "source": [
    "print(X_train_updated.shape)\n",
    "print(X_test_updated.shape)"
   ]
  },
  {
   "cell_type": "markdown",
   "metadata": {},
   "source": [
    "X_train_data2 = X_train_updated.groupby(['SalesPersonID'])[['Quantity']].mean()\n",
    "X_train_data2 = X_train_data2.rename(columns={'Quantity': 'Average amount Quantity per Person'})\n",
    "X_train_updated = X_train_updated.join(X_train_data2,on=['SalesPersonID'])"
   ]
  },
  {
   "cell_type": "markdown",
   "metadata": {},
   "source": [
    "X_test_data2 = X_test_updated.groupby(['SalesPersonID'])[['Quantity']].mean()\n",
    "X_test_data2 = X_test_data2.rename(columns={'Quantity': 'Average amount Quantity per Person'})\n",
    "X_test_updated = X_test_updated.join(X_test_data2,on=['SalesPersonID'])"
   ]
  },
  {
   "cell_type": "markdown",
   "metadata": {},
   "source": [
    "X_train_data3 = X_train_updated.groupby(['SalesPersonID'])[['ProductID']].count()\n",
    "X_train_data3 = X_train_data3.rename(columns={'ProductID': 'No of products per person'})\n",
    "X_train_updated = X_train_updated.join(X_train_data3,on=['SalesPersonID'])"
   ]
  },
  {
   "cell_type": "markdown",
   "metadata": {},
   "source": [
    "X_test_data3 = X_test_updated.groupby(['SalesPersonID'])[['ProductID']].count()\n",
    "X_test_data3 = X_test_data3.rename(columns={'ProductID': 'No of products per person'})\n",
    "X_test_updated = X_test_updated.join(X_test_data3,on=['SalesPersonID'])"
   ]
  },
  {
   "cell_type": "markdown",
   "metadata": {},
   "source": [
    "X_train_data4 = X_train_updated.groupby(['SalesPersonID','ProductID'])[['Quantity']].sum()\n",
    "X_train_data4=X_train_data4.rename(columns={'Quantity': 'sum of each product quuantity per person'})\n",
    "X_train_updated = X_train_updated.join(X_train_data4,on=['SalesPersonID','ProductID'])"
   ]
  },
  {
   "cell_type": "markdown",
   "metadata": {},
   "source": [
    "X_test_data4 = X_test_updated.groupby(['SalesPersonID','ProductID'])[['Quantity']].sum()\n",
    "X_test_data4=X_test_data4.rename(columns={'Quantity': 'sum of each product quuantity per person'})\n",
    "X_test_updated = X_test_updated.join(X_test_data4,on=['SalesPersonID','ProductID'])"
   ]
  },
  {
   "cell_type": "markdown",
   "metadata": {},
   "source": [
    "X_train_data5 = X_train_updated.groupby(['SalesPersonID','ProductID'])[['TotalSalesValue']].sum()\n",
    "X_train_data5 =X_train_data5.rename(columns={'TotalSalesValue': 'sum of each product sales per person'})\n",
    "X_train_updated = X_train_updated.join(X_train_data5,on=['SalesPersonID','ProductID'])"
   ]
  },
  {
   "cell_type": "markdown",
   "metadata": {},
   "source": [
    "X_test_data5 = X_test_updated.groupby(['SalesPersonID','ProductID'])[['TotalSalesValue']].sum()\n",
    "X_test_data5 =X_test_data5.rename(columns={'TotalSalesValue': 'sum of each product sales per person'})\n",
    "X_test_updated = X_test_updated.join(X_test_data5,on=['SalesPersonID','ProductID'])"
   ]
  },
  {
   "cell_type": "markdown",
   "metadata": {},
   "source": [
    "X_train_data6 = X_train_updated.groupby(['SalesPersonID','ProductID'])[['TotalSalesValue']].median()\n",
    "X_train_data6 =X_train_data6.rename(columns={'TotalSalesValue': 'Avg of each product sales per person'})\n",
    "X_train_updated = X_train_updated.join(X_train_data6,on=['SalesPersonID','ProductID'])"
   ]
  },
  {
   "cell_type": "markdown",
   "metadata": {},
   "source": [
    "X_test_data6 = X_test_updated.groupby(['SalesPersonID','ProductID'])[['TotalSalesValue']].median()\n",
    "X_test_data6 =X_test_data6.rename(columns={'TotalSalesValue': 'Avg of each product sales per person'})\n",
    "X_test_updated = X_test_updated.join(X_test_data6,on=['SalesPersonID','ProductID'])"
   ]
  },
  {
   "cell_type": "markdown",
   "metadata": {},
   "source": [
    "X_train_data7 = X_train_updated.groupby(['SalesPersonID','ProductID'])[['Quantity']].mean()\n",
    "X_train_data7 =X_train_data7.rename(columns={'Quantity': 'Avg of each product quuantity per person'})\n",
    "X_train_updated = X_train_updated.join(X_train_data7,on=['SalesPersonID','ProductID'])"
   ]
  },
  {
   "cell_type": "markdown",
   "metadata": {},
   "source": [
    "X_test_data7 = X_test_updated.groupby(['SalesPersonID','ProductID'])[['Quantity']].mean()\n",
    "X_test_data7 =X_test_data7.rename(columns={'Quantity': 'Avg of each product quuantity per person'})\n",
    "X_test_updated = X_test_updated.join(X_test_data7,on=['SalesPersonID','ProductID'])"
   ]
  },
  {
   "cell_type": "markdown",
   "metadata": {},
   "source": [
    "X_train_data8=X_train_updated.groupby(['ProductID'])[['Quantity']].mean()\n",
    "X_train_data8 = X_train_data8.rename(columns={'Quantity': 'Average amount Quantity per Product'})\n",
    "X_train_updated = X_train_updated.join(X_train_data8,on=['ProductID'])"
   ]
  },
  {
   "cell_type": "markdown",
   "metadata": {},
   "source": [
    "X_test_data8=X_test_updated.groupby(['ProductID'])[['Quantity']].mean()\n",
    "X_test_data8 = X_test_data8.rename(columns={'Quantity': 'Average amount Quantity per Product'})\n",
    "X_test_updated = X_test_updated.join(X_test_data8,on=['ProductID'])"
   ]
  },
  {
   "cell_type": "markdown",
   "metadata": {},
   "source": [
    "X_train_data9=X_train_updated.groupby(['ProductID'])[['TotalSalesValue']].median()\n",
    "X_train_data9 = X_train_data9.rename(columns={'TotalSalesValue': 'Average sales per Product'})\n",
    "X_train_updated = X_train_updated.join(X_train_data9,on=['ProductID'])"
   ]
  },
  {
   "cell_type": "markdown",
   "metadata": {},
   "source": [
    "X_test_data9=X_test_updated.groupby(['ProductID'])[['TotalSalesValue']].median()\n",
    "X_test_data9 = X_test_data9.rename(columns={'TotalSalesValue': 'Average sales per Product'})\n",
    "X_test_updated = X_test_updated.join(X_test_data9,on=['ProductID'])"
   ]
  },
  {
   "cell_type": "markdown",
   "metadata": {},
   "source": [
    "X_train_data10=X_train_updated.groupby(['ProductID'])[['TotalSalesValue']].median()\n",
    "X_train_data10 = X_train_data10.rename(columns={'TotalSalesValue': 'Average salesvalue per Product'})\n",
    "X_train_updated = X_train_updated.join(X_train_data10,on=['ProductID'])"
   ]
  },
  {
   "cell_type": "markdown",
   "metadata": {},
   "source": [
    "X_test_data10=X_test_updated.groupby(['ProductID'])[['TotalSalesValue']].median()\n",
    "X_test_data10 = X_test_data10.rename(columns={'TotalSalesValue': 'Average salesvalue per Product'})\n",
    "X_test_updated = X_test_updated.join(X_test_data10,on=['ProductID'])"
   ]
  },
  {
   "cell_type": "markdown",
   "metadata": {},
   "source": [
    "X_train_data11 = X_train_updated.groupby(['SalesPersonID'])[['TotalSalesValue']].median()\n",
    "X_train_data11 = X_train_data11.rename(columns={'TotalSalesValue': 'Average salesvalue per Person'})\n",
    "X_train_updated = X_train_updated.join(X_train_data11,on=['SalesPersonID'])"
   ]
  },
  {
   "cell_type": "markdown",
   "metadata": {},
   "source": [
    "X_test_data11 = X_test_updated.groupby(['SalesPersonID'])[['TotalSalesValue']].median()\n",
    "X_test_data11 = X_test_data11.rename(columns={'TotalSalesValue': 'Average salesvalue per Person'})\n",
    "X_test_updated = X_test_updated.join(X_test_data11,on=['SalesPersonID'])"
   ]
  },
  {
   "cell_type": "markdown",
   "metadata": {},
   "source": [
    "X_train_updated['ratio for quantity per person'] = X_train_updated['Quantity']/X_train_updated['Average amount Quantity per Person']\n",
    "X_test_updated['ratio for quantity per person'] = X_test_updated['Quantity']/X_test_updated['Average amount Quantity per Person']"
   ]
  },
  {
   "cell_type": "markdown",
   "metadata": {},
   "source": [
    "X_train_updated['ratio for salesvalue per person'] = X_train_updated['TotalSalesValue']/X_train_updated['Average salesvalue per Person']\n",
    "X_test_updated['ratio for salesvalue per person'] = X_test_updated['TotalSalesValue']/X_test_updated['Average salesvalue per Person']"
   ]
  },
  {
   "cell_type": "code",
   "execution_count": 17,
   "metadata": {},
   "outputs": [],
   "source": [
    "test_data['Price_of_oneProduct'] = test_data.apply(lambda row: row.TotalSalesValue / row.Quantity, axis = 1)"
   ]
  },
  {
   "cell_type": "code",
   "execution_count": 18,
   "metadata": {},
   "outputs": [],
   "source": [
    "test_df=test_data.groupby([\"ProductID\"]).median()\n",
    "test_df=test_df.drop(['TotalSalesValue','Quantity'],axis = 1)\n",
    "test_df=test_df.rename(columns={'Price_of_oneProduct': 'Avg_of_eachProduct'})\n",
    "test_data_updated = test_data.join(test_df, on='ProductID')"
   ]
  },
  {
   "cell_type": "markdown",
   "metadata": {},
   "source": [
    "test_data1 = test_data_updated.groupby(['SalesPersonID'])[['TotalSalesValue']].median()\n",
    "test_data1 = test_data1.rename(columns={'TotalSalesValue': 'Average sales per person'})\n",
    "test_data_updated = test_data_updated.join(test_data1,on = ['SalesPersonID'])"
   ]
  },
  {
   "cell_type": "markdown",
   "metadata": {},
   "source": [
    "test_data2 = test_data_updated.groupby(['SalesPersonID'])[['Quantity']].mean()\n",
    "test_data2 = test_data2.rename(columns={'Quantity': 'Average amount Quantity per Person'})\n",
    "test_data_updated = test_data_updated.join(test_data2,on=['SalesPersonID'])"
   ]
  },
  {
   "cell_type": "markdown",
   "metadata": {},
   "source": [
    "test_data3 = test_data_updated.groupby(['SalesPersonID'])[['ProductID']].count()\n",
    "test_data3 = test_data3.rename(columns={'ProductID': 'No of products per person'})\n",
    "test_data_updated = test_data_updated.join(test_data3,on=['SalesPersonID'])"
   ]
  },
  {
   "cell_type": "markdown",
   "metadata": {},
   "source": [
    "test_data4 = test_data_updated.groupby(['SalesPersonID','ProductID'])[['Quantity']].sum()\n",
    "test_data4=test_data4.rename(columns={'Quantity': 'sum of each product quuantity per person'})\n",
    "test_data_updated = test_data_updated.join(test_data4,on=['SalesPersonID','ProductID'])"
   ]
  },
  {
   "cell_type": "markdown",
   "metadata": {},
   "source": [
    "test_data5 = test_data_updated.groupby(['SalesPersonID','ProductID'])[['TotalSalesValue']].sum()\n",
    "test_data5 =test_data5.rename(columns={'TotalSalesValue': 'sum of each product sales per person'})\n",
    "test_data_updated = test_data_updated.join(test_data5,on=['SalesPersonID','ProductID'])"
   ]
  },
  {
   "cell_type": "markdown",
   "metadata": {},
   "source": [
    "test_data6 = test_data_updated.groupby(['SalesPersonID','ProductID'])[['TotalSalesValue']].median()\n",
    "test_data6 =test_data6.rename(columns={'TotalSalesValue': 'Avg of each product sales per person'})\n",
    "test_data_updated = test_data_updated.join(test_data6,on=['SalesPersonID','ProductID'])"
   ]
  },
  {
   "cell_type": "markdown",
   "metadata": {},
   "source": [
    "test_data7 = test_data_updated.groupby(['SalesPersonID','ProductID'])[['Quantity']].mean()\n",
    "test_data7 =test_data7.rename(columns={'Quantity': 'Avg of each product quuantity per person'})\n",
    "test_data_updated = test_data_updated.join(test_data7,on=['SalesPersonID','ProductID'])"
   ]
  },
  {
   "cell_type": "markdown",
   "metadata": {},
   "source": [
    "test_data8 = test_data_updated.groupby(['ProductID'])[['Quantity']].mean()\n",
    "test_data8 = test_data8.rename(columns={'Quantity': 'Average amount Quantity per Product'})\n",
    "test_data_updated = test_data_updated.join(test_data8,on=['ProductID'])"
   ]
  },
  {
   "cell_type": "markdown",
   "metadata": {},
   "source": [
    "test_data9=test_data_updated.groupby(['ProductID'])[['TotalSalesValue']].median()\n",
    "test_data9 = test_data9.rename(columns={'TotalSalesValue': 'Average sales per Product'})\n",
    "test_data_updated = test_data_updated.join(test_data9,on=['ProductID'])"
   ]
  },
  {
   "cell_type": "markdown",
   "metadata": {},
   "source": [
    "test_data10 = test_data_updated.groupby(['ProductID'])[['TotalSalesValue']].median()\n",
    "test_data10 = test_data10.rename(columns={'TotalSalesValue': 'Average salesvalue per Product'})\n",
    "test_data_updated = test_data_updated.join(test_data10,on=['ProductID'])"
   ]
  },
  {
   "cell_type": "markdown",
   "metadata": {},
   "source": [
    "test_data11 = test_data_updated.groupby(['SalesPersonID'])[['TotalSalesValue']].median()\n",
    "test_data11 = test_data11.rename(columns={'TotalSalesValue': 'Average salesvalue per Person'})\n",
    "test_data_updated = test_data_updated.join(test_data11,on=['SalesPersonID'])"
   ]
  },
  {
   "cell_type": "markdown",
   "metadata": {},
   "source": [
    "test_data_updated['ratio for quantity per person'] = test_data_updated['Quantity']/test_data_updated['Average amount Quantity per Person']"
   ]
  },
  {
   "cell_type": "markdown",
   "metadata": {},
   "source": [
    "test_data_updated['ratio for salesvalue per person'] = test_data_updated['TotalSalesValue']/test_data_updated['Average salesvalue per Person']"
   ]
  },
  {
   "cell_type": "code",
   "execution_count": 19,
   "metadata": {},
   "outputs": [
    {
     "name": "stdout",
     "output_type": "stream",
     "text": [
      "(34065, 7)\n",
      "(8517, 7)\n",
      "(9135, 7)\n"
     ]
    }
   ],
   "source": [
    "print(X_train_updated.shape)\n",
    "print(X_test_updated.shape)\n",
    "print(test_data_updated.shape)"
   ]
  },
  {
   "cell_type": "code",
   "execution_count": 20,
   "metadata": {},
   "outputs": [],
   "source": [
    "y_train=pd.DataFrame(y_train)\n",
    "y_test=pd.DataFrame(y_test)"
   ]
  },
  {
   "cell_type": "code",
   "execution_count": 21,
   "metadata": {},
   "outputs": [],
   "source": [
    "y_train=y_train.Suspicious.replace(['Yes','No','indeterminate'],['1','2','3'])\n",
    "y_test=y_test.Suspicious.replace(['Yes','No','indeterminate'],['1','2','3'])"
   ]
  },
  {
   "cell_type": "code",
   "execution_count": 22,
   "metadata": {},
   "outputs": [],
   "source": [
    "X_train_updated=X_train_updated.drop(['ReportID', 'SalesPersonID', 'ProductID'],axis=1)\n",
    "X_test_updated=X_test_updated.drop(['ReportID', 'SalesPersonID', 'ProductID'],axis=1)\n",
    "test_data_updated=test_data_updated.drop(['ReportID', 'SalesPersonID', 'ProductID'],axis=1)"
   ]
  },
  {
   "cell_type": "code",
   "execution_count": 23,
   "metadata": {},
   "outputs": [
    {
     "data": {
      "text/html": [
       "<div>\n",
       "<style scoped>\n",
       "    .dataframe tbody tr th:only-of-type {\n",
       "        vertical-align: middle;\n",
       "    }\n",
       "\n",
       "    .dataframe tbody tr th {\n",
       "        vertical-align: top;\n",
       "    }\n",
       "\n",
       "    .dataframe thead th {\n",
       "        text-align: right;\n",
       "    }\n",
       "</style>\n",
       "<table border=\"1\" class=\"dataframe\">\n",
       "  <thead>\n",
       "    <tr style=\"text-align: right;\">\n",
       "      <th></th>\n",
       "      <th>Quantity</th>\n",
       "      <th>TotalSalesValue</th>\n",
       "      <th>Price_of_oneProduct</th>\n",
       "      <th>Avg_of_eachProduct</th>\n",
       "    </tr>\n",
       "  </thead>\n",
       "  <tbody>\n",
       "    <tr>\n",
       "      <th>0</th>\n",
       "      <td>102</td>\n",
       "      <td>1115</td>\n",
       "      <td>10.931373</td>\n",
       "      <td>9.437500</td>\n",
       "    </tr>\n",
       "    <tr>\n",
       "      <th>1</th>\n",
       "      <td>102</td>\n",
       "      <td>1050</td>\n",
       "      <td>10.294118</td>\n",
       "      <td>10.869565</td>\n",
       "    </tr>\n",
       "    <tr>\n",
       "      <th>2</th>\n",
       "      <td>344</td>\n",
       "      <td>3490</td>\n",
       "      <td>10.145349</td>\n",
       "      <td>10.849359</td>\n",
       "    </tr>\n",
       "    <tr>\n",
       "      <th>3</th>\n",
       "      <td>108</td>\n",
       "      <td>1095</td>\n",
       "      <td>10.138889</td>\n",
       "      <td>15.594714</td>\n",
       "    </tr>\n",
       "    <tr>\n",
       "      <th>4</th>\n",
       "      <td>146</td>\n",
       "      <td>1055</td>\n",
       "      <td>7.226027</td>\n",
       "      <td>9.501085</td>\n",
       "    </tr>\n",
       "  </tbody>\n",
       "</table>\n",
       "</div>"
      ],
      "text/plain": [
       "   Quantity  TotalSalesValue  Price_of_oneProduct  Avg_of_eachProduct\n",
       "0       102             1115            10.931373            9.437500\n",
       "1       102             1050            10.294118           10.869565\n",
       "2       344             3490            10.145349           10.849359\n",
       "3       108             1095            10.138889           15.594714\n",
       "4       146             1055             7.226027            9.501085"
      ]
     },
     "execution_count": 23,
     "metadata": {},
     "output_type": "execute_result"
    }
   ],
   "source": [
    "test_data_updated.head()"
   ]
  },
  {
   "cell_type": "code",
   "execution_count": 24,
   "metadata": {},
   "outputs": [],
   "source": [
    "train_updated=X_train_updated.join(y_train)\n",
    "test_updated=X_test_updated.join(y_test)"
   ]
  },
  {
   "cell_type": "markdown",
   "metadata": {},
   "source": [
    "X_train_updated=X_train_updated.drop(['ReportID', 'SalesPersonID', 'ProductID','Average sales per person','Average amount Quantity per Person','sum of each product quuantity per person'],axis=1)\n",
    "X_test_updated=X_test_updated.drop(['ReportID', 'SalesPersonID', 'ProductID','Average sales per person','Average amount Quantity per Person','sum of each product quuantity per person'],axis=1)"
   ]
  },
  {
   "cell_type": "markdown",
   "metadata": {},
   "source": [
    "from sklearn.preprocessing import StandardScaler\n",
    "sc = StandardScaler()\n",
    "X_train_updated = sc.fit_transform(X_train_updated)\n",
    "X_test_updated = sc.transform(X_test_updated)\n",
    "test_data_updated=sc.transform(test_data_updated)"
   ]
  },
  {
   "cell_type": "markdown",
   "metadata": {},
   "source": [
    "from sklearn.metrics import classification_report\n",
    "from sklearn.model_selection import GridSearchCV\n",
    "from sklearn.ensemble import RandomForestClassifier\n",
    "rfc = RandomForestClassifier(n_jobs=-1) \n",
    "param_grid = {\"criterion\": [\"gini\", \"entropy\"],\n",
    "              \"max_features\": [2,3,4,5,6,7,8,9,10,11,12,13,14],\n",
    "              \"n_estimators\":[100,200,300,400,500,600,700,800,900,1000],\n",
    "              \"min_samples_leaf\":[1,3,5],\n",
    "              \"max_depth\": [2,5,7,9,11,13],\n",
    "              }\n",
    "scores = ['precision', 'recall']"
   ]
  },
  {
   "cell_type": "markdown",
   "metadata": {},
   "source": [
    "clf = RandomForestClassifier(n_jobs=-1,class_weight=\"balanced\",random_state=42)\n",
    "rf = GridSearchCV(clf, param_grid, cv=10)"
   ]
  },
  {
   "cell_type": "markdown",
   "metadata": {},
   "source": [
    "from sklearn.model_selection import GridSearchCV\n",
    "from sklearn.ensemble import RandomForestClassifier\n",
    "param_grid = {\"criterion\": [\"gini\", \"entropy\"],\n",
    "              \"n_estimators\":[300,400,600,700],\n",
    "              \"min_samples_leaf\":[1,3,5],\n",
    "              \"max_depth\": [2,5,7],\n",
    "              }"
   ]
  },
  {
   "cell_type": "markdown",
   "metadata": {},
   "source": [
    "clf = RandomForestClassifier(max_features='sqrt',class_weight=\"balanced\",n_jobs=-1) \n",
    "rf= GridSearchCV(estimator=clf, param_grid=param_grid, cv= 10)"
   ]
  },
  {
   "cell_type": "code",
   "execution_count": 25,
   "metadata": {},
   "outputs": [],
   "source": [
    "from sklearn.ensemble import RandomForestClassifier\n",
    "rf= RandomForestClassifier(criterion='gini', n_estimators=450, max_features=2, class_weight=\"balanced\", max_depth=4)"
   ]
  },
  {
   "cell_type": "code",
   "execution_count": 26,
   "metadata": {},
   "outputs": [],
   "source": [
    "rf_1=rf.fit(X_train_updated,y_train)"
   ]
  },
  {
   "cell_type": "markdown",
   "metadata": {},
   "source": [
    "print (rf.best_score_, rf.best_params_) "
   ]
  },
  {
   "cell_type": "code",
   "execution_count": 27,
   "metadata": {},
   "outputs": [],
   "source": [
    "from xgboost import XGBClassifier\n",
    "xgb=XGBClassifier(n_estimators=250,gamma=0.8,learning_rate=0.2,max_depth=2)"
   ]
  },
  {
   "cell_type": "code",
   "execution_count": 28,
   "metadata": {},
   "outputs": [],
   "source": [
    "xgb.fit(X_train_updated,y_train);"
   ]
  },
  {
   "cell_type": "code",
   "execution_count": 29,
   "metadata": {},
   "outputs": [],
   "source": [
    "pred_train_xgb=xgb.predict(X_train_updated)\n",
    "pred_test_xgb=xgb.predict(X_test_updated)"
   ]
  },
  {
   "cell_type": "markdown",
   "metadata": {},
   "source": [
    "rf.best_params_"
   ]
  },
  {
   "cell_type": "code",
   "execution_count": 30,
   "metadata": {},
   "outputs": [],
   "source": [
    "pred_train_rf=rf.predict(X_train_updated)\n",
    "pred_test_rf=rf.predict(X_test_updated)"
   ]
  },
  {
   "cell_type": "code",
   "execution_count": 31,
   "metadata": {},
   "outputs": [
    {
     "name": "stdout",
     "output_type": "stream",
     "text": [
      "confusion matrix for Random Forest Model\n",
      "[[  117    25   237]\n",
      " [   12  1330  8257]\n",
      " [   16   689 23382]]\n",
      "[[  21    2   66]\n",
      " [   6  296 2001]\n",
      " [   9  213 5903]]\n"
     ]
    }
   ],
   "source": [
    "from sklearn.metrics import confusion_matrix\n",
    "cm_train_rf=confusion_matrix(pred_train_rf,y_train)\n",
    "cm_test_rf=confusion_matrix(pred_test_rf,y_test)\n",
    "print(\"confusion matrix for Random Forest Model\")\n",
    "print(cm_train_rf)\n",
    "print(cm_test_rf)"
   ]
  },
  {
   "cell_type": "code",
   "execution_count": 32,
   "metadata": {},
   "outputs": [
    {
     "name": "stdout",
     "output_type": "stream",
     "text": [
      "confusion matrix for XG Boost Model\n",
      "[[   90     3    10]\n",
      " [    4   315    70]\n",
      " [   51  1726 31796]]\n",
      "[[  10    0    5]\n",
      " [   2   20   42]\n",
      " [  24  491 7923]]\n"
     ]
    }
   ],
   "source": [
    "cm_train_xgb=confusion_matrix(pred_train_xgb,y_train)\n",
    "cm_test_xgb=confusion_matrix(pred_test_xgb,y_test)\n",
    "print(\"confusion matrix for XG Boost Model\")\n",
    "print(cm_train_xgb)\n",
    "print(cm_test_xgb)"
   ]
  },
  {
   "cell_type": "code",
   "execution_count": 33,
   "metadata": {},
   "outputs": [
    {
     "name": "stdout",
     "output_type": "stream",
     "text": [
      "classification Report for Random Forest Model\n",
      "              precision    recall  f1-score   support\n",
      "\n",
      "           1       0.31      0.81      0.45       145\n",
      "           2       0.14      0.65      0.23      2044\n",
      "           3       0.97      0.73      0.84     31876\n",
      "\n",
      "   micro avg       0.73      0.73      0.73     34065\n",
      "   macro avg       0.47      0.73      0.50     34065\n",
      "weighted avg       0.92      0.73      0.80     34065\n",
      "\n",
      "              precision    recall  f1-score   support\n",
      "\n",
      "           1       0.24      0.58      0.34        36\n",
      "           2       0.13      0.58      0.21       511\n",
      "           3       0.96      0.74      0.84      7970\n",
      "\n",
      "   micro avg       0.73      0.73      0.73      8517\n",
      "   macro avg       0.44      0.63      0.46      8517\n",
      "weighted avg       0.91      0.73      0.80      8517\n",
      "\n"
     ]
    }
   ],
   "source": [
    "from sklearn.metrics import classification_report\n",
    "print(\"classification Report for Random Forest Model\")\n",
    "print(classification_report(y_train,pred_train_rf))\n",
    "print(classification_report(y_test,pred_test_rf))"
   ]
  },
  {
   "cell_type": "code",
   "execution_count": 34,
   "metadata": {},
   "outputs": [
    {
     "name": "stdout",
     "output_type": "stream",
     "text": [
      "Classification Report of XG Boost Model\n",
      "              precision    recall  f1-score   support\n",
      "\n",
      "           1       0.87      0.62      0.73       145\n",
      "           2       0.81      0.15      0.26      2044\n",
      "           3       0.95      1.00      0.97     31876\n",
      "\n",
      "   micro avg       0.95      0.95      0.95     34065\n",
      "   macro avg       0.88      0.59      0.65     34065\n",
      "weighted avg       0.94      0.95      0.93     34065\n",
      "\n",
      "              precision    recall  f1-score   support\n",
      "\n",
      "           1       0.67      0.28      0.39        36\n",
      "           2       0.31      0.04      0.07       511\n",
      "           3       0.94      0.99      0.97      7970\n",
      "\n",
      "   micro avg       0.93      0.93      0.93      8517\n",
      "   macro avg       0.64      0.44      0.48      8517\n",
      "weighted avg       0.90      0.93      0.91      8517\n",
      "\n"
     ]
    }
   ],
   "source": [
    "print(\"Classification Report of XG Boost Model\")\n",
    "print(classification_report(y_train,pred_train_xgb))\n",
    "print(classification_report(y_test,pred_test_xgb))"
   ]
  },
  {
   "cell_type": "code",
   "execution_count": 35,
   "metadata": {},
   "outputs": [],
   "source": [
    "test_pred_rf = rf.predict(test_data_updated)"
   ]
  },
  {
   "cell_type": "code",
   "execution_count": 36,
   "metadata": {},
   "outputs": [],
   "source": [
    "test_pred_xgb=xgb.predict(test_data_updated)"
   ]
  },
  {
   "cell_type": "markdown",
   "metadata": {},
   "source": [
    "test_pred_rf=pd.DataFrame(test_pred_rf)"
   ]
  },
  {
   "cell_type": "code",
   "execution_count": 37,
   "metadata": {},
   "outputs": [],
   "source": [
    "features = X_train_updated.columns\n",
    "importances_rf = rf.feature_importances_\n",
    "importances_xgb=xgb.feature_importances_\n",
    "indices_rf = np.argsort(importances_rf)\n",
    "indices_xgb=np.argsort(importances_xgb)"
   ]
  },
  {
   "cell_type": "code",
   "execution_count": 38,
   "metadata": {},
   "outputs": [
    {
     "data": {
      "image/png": "[encoded data removed]",
      "text/plain": [
       "<Figure size 432x288 with 1 Axes>"
      ]
     },
     "metadata": {},
     "output_type": "display_data"
    }
   ],
   "source": [
    "plt.title('Feature Importances for Random Forest Model')\n",
    "plt.barh(range(len(indices_rf)), importances_rf[indices_rf], color='b', align='center')\n",
    "plt.yticks(range(len(indices_rf)), [features[i] for i in indices_rf])\n",
    "plt.xlabel('Relative Importance')\n",
    "plt.show()"
   ]
  },
  {
   "cell_type": "code",
   "execution_count": 39,
   "metadata": {},
   "outputs": [
    {
     "data": {
      "image/png": "[encoded data removed]",
      "text/plain": [
       "<Figure size 432x288 with 1 Axes>"
      ]
     },
     "metadata": {},
     "output_type": "display_data"
    }
   ],
   "source": [
    "plt.title('Feature Importances for XG Boost Model')\n",
    "plt.barh(range(len(indices_xgb)), importances_xgb[indices_xgb], color='b', align='center')\n",
    "plt.yticks(range(len(indices_xgb)), [features[i] for i in indices_xgb])\n",
    "plt.xlabel('Relative Importance')\n",
    "plt.show()"
   ]
  },
  {
   "cell_type": "code",
   "execution_count": 40,
   "metadata": {},
   "outputs": [
    {
     "name": "stderr",
     "output_type": "stream",
     "text": [
      "Using TensorFlow backend.\n"
     ]
    }
   ],
   "source": [
    "import keras\n",
    "from keras.layers import Dense\n",
    "from keras.models import Sequential\n",
    "from keras.layers import Input"
   ]
  },
  {
   "cell_type": "code",
   "execution_count": 41,
   "metadata": {},
   "outputs": [],
   "source": [
    "encoding_dim=10\n",
    "actual_dim=X_train_updated.shape[1]"
   ]
  },
  {
   "cell_type": "code",
   "execution_count": 42,
   "metadata": {},
   "outputs": [
    {
     "name": "stdout",
     "output_type": "stream",
     "text": [
      "WARNING:tensorflow:From C:\\Users\\deeks\\Anaconda3\\lib\\site-packages\\tensorflow\\python\\framework\\op_def_library.py:263: colocate_with (from tensorflow.python.framework.ops) is deprecated and will be removed in a future version.\n",
      "Instructions for updating:\n",
      "Colocations handled automatically by placer.\n"
     ]
    }
   ],
   "source": [
    "input=Input(shape=(actual_dim,))\n",
    "encoded=Dense(encoding_dim,activation='relu')(input)\n",
    "decoded=Dense(actual_dim,activation='relu')(encoded)"
   ]
  },
  {
   "cell_type": "code",
   "execution_count": 43,
   "metadata": {},
   "outputs": [],
   "source": [
    "from keras.models import Model\n",
    "autoencoder=Model(input,decoded)"
   ]
  },
  {
   "cell_type": "code",
   "execution_count": 44,
   "metadata": {},
   "outputs": [
    {
     "name": "stdout",
     "output_type": "stream",
     "text": [
      "_________________________________________________________________\n",
      "Layer (type)                 Output Shape              Param #   \n",
      "=================================================================\n",
      "input_1 (InputLayer)         (None, 4)                 0         \n",
      "_________________________________________________________________\n",
      "dense_1 (Dense)              (None, 10)                50        \n",
      "_________________________________________________________________\n",
      "dense_2 (Dense)              (None, 4)                 44        \n",
      "=================================================================\n",
      "Total params: 94\n",
      "Trainable params: 94\n",
      "Non-trainable params: 0\n",
      "_________________________________________________________________\n"
     ]
    }
   ],
   "source": [
    "autoencoder.summary()"
   ]
  },
  {
   "cell_type": "code",
   "execution_count": 45,
   "metadata": {},
   "outputs": [],
   "source": [
    "autoencoder.compile(optimizer='adam',loss='categorical_crossentropy')"
   ]
  },
  {
   "cell_type": "code",
   "execution_count": 46,
   "metadata": {},
   "outputs": [
    {
     "name": "stdout",
     "output_type": "stream",
     "text": [
      "WARNING:tensorflow:From C:\\Users\\deeks\\Anaconda3\\lib\\site-packages\\tensorflow\\python\\ops\\math_ops.py:3066: to_int32 (from tensorflow.python.ops.math_ops) is deprecated and will be removed in a future version.\n",
      "Instructions for updating:\n",
      "Use tf.cast instead.\n",
      "Epoch 1/20\n",
      "34065/34065 [==============================] - 1s 36us/step - loss: 17791.2197\n",
      "Epoch 2/20\n",
      "34065/34065 [==============================] - 1s 40us/step - loss: 8484.7262\n",
      "Epoch 3/20\n",
      "34065/34065 [==============================] - 1s 30us/step - loss: 8422.6866\n",
      "Epoch 4/20\n",
      "34065/34065 [==============================] - 1s 35us/step - loss: 8452.6843\n",
      "Epoch 5/20\n",
      "34065/34065 [==============================] - 1s 34us/step - loss: 8420.6945\n",
      "Epoch 6/20\n",
      "34065/34065 [==============================] - 1s 33us/step - loss: 8422.9286\n",
      "Epoch 7/20\n",
      "34065/34065 [==============================] - 1s 37us/step - loss: 8418.3091\n",
      "Epoch 8/20\n",
      "34065/34065 [==============================] - 1s 37us/step - loss: 8419.0553\n",
      "Epoch 9/20\n",
      "34065/34065 [==============================] - 1s 39us/step - loss: 8417.2946\n",
      "Epoch 10/20\n",
      "34065/34065 [==============================] - 1s 42us/step - loss: 8385.1425\n",
      "Epoch 11/20\n",
      "34065/34065 [==============================] - 2s 65us/step - loss: 8488.0195\n",
      "Epoch 12/20\n",
      "34065/34065 [==============================] - 1s 35us/step - loss: 8391.0121\n",
      "Epoch 13/20\n",
      "34065/34065 [==============================] - 1s 38us/step - loss: 8391.7613\n",
      "Epoch 14/20\n",
      "34065/34065 [==============================] - 1s 40us/step - loss: 8414.0371\n",
      "Epoch 15/20\n",
      "34065/34065 [==============================] - 1s 31us/step - loss: 8422.5335\n",
      "Epoch 16/20\n",
      "34065/34065 [==============================] - 1s 29us/step - loss: 8376.1530\n",
      "Epoch 17/20\n",
      "34065/34065 [==============================] - 1s 30us/step - loss: 8399.1526\n",
      "Epoch 18/20\n",
      "34065/34065 [==============================] - 1s 30us/step - loss: 8406.6730\n",
      "Epoch 19/20\n",
      "34065/34065 [==============================] - 1s 29us/step - loss: 8400.8327\n",
      "Epoch 20/20\n",
      "34065/34065 [==============================] - 1s 33us/step - loss: 8382.0759\n"
     ]
    },
    {
     "data": {
      "text/plain": [
       "<keras.callbacks.History at 0x229bce95828>"
      ]
     },
     "execution_count": 46,
     "metadata": {},
     "output_type": "execute_result"
    }
   ],
   "source": [
    "autoencoder.fit(X_train_updated,X_train_updated,epochs=20)"
   ]
  },
  {
   "cell_type": "code",
   "execution_count": 47,
   "metadata": {},
   "outputs": [
    {
     "name": "stdout",
     "output_type": "stream",
     "text": [
      "_________________________________________________________________\n",
      "Layer (type)                 Output Shape              Param #   \n",
      "=================================================================\n",
      "input_1 (InputLayer)         (None, 4)                 0         \n",
      "_________________________________________________________________\n",
      "dense_1 (Dense)              (None, 10)                50        \n",
      "=================================================================\n",
      "Total params: 50\n",
      "Trainable params: 50\n",
      "Non-trainable params: 0\n",
      "_________________________________________________________________\n"
     ]
    }
   ],
   "source": [
    "encoder = Model(input,encoded)\n",
    "encoder.summary()"
   ]
  },
  {
   "cell_type": "code",
   "execution_count": 48,
   "metadata": {},
   "outputs": [],
   "source": [
    "X_train_nonlinear_features = encoder.predict(X_train_updated)\n",
    "X_test_nonlinear_features = encoder.predict(X_test_updated)\n",
    "test_data_updated_nonlinear=encoder.predict(test_data_updated)"
   ]
  },
  {
   "cell_type": "code",
   "execution_count": 49,
   "metadata": {},
   "outputs": [],
   "source": [
    "X_train_updated_ae = np.concatenate((X_train_updated, X_train_nonlinear_features), axis=1)\n",
    "X_test_updated_ae = np.concatenate((X_test_updated, X_test_nonlinear_features), axis=1)\n",
    "test_data_updated_ae= np.concatenate((test_data_updated, test_data_updated_nonlinear), axis=1)"
   ]
  },
  {
   "cell_type": "code",
   "execution_count": 50,
   "metadata": {},
   "outputs": [
    {
     "data": {
      "text/plain": [
       "(34065, 14)"
      ]
     },
     "execution_count": 50,
     "metadata": {},
     "output_type": "execute_result"
    }
   ],
   "source": [
    "X_train_updated_ae.shape"
   ]
  },
  {
   "cell_type": "code",
   "execution_count": 51,
   "metadata": {},
   "outputs": [],
   "source": [
    "ranf=rf.fit(X_train_updated_ae,y_train)"
   ]
  },
  {
   "cell_type": "code",
   "execution_count": 52,
   "metadata": {},
   "outputs": [],
   "source": [
    "pred_train_rf_ae= rf.predict(X_train_updated_ae)\n",
    "pred_test_rf_ae= rf.predict(X_test_updated_ae)"
   ]
  },
  {
   "cell_type": "code",
   "execution_count": 53,
   "metadata": {},
   "outputs": [
    {
     "name": "stdout",
     "output_type": "stream",
     "text": [
      "confusion matrix for Random Forest Model\n",
      "[[  114    23   551]\n",
      " [   15  1413  9742]\n",
      " [   16   608 21583]]\n",
      "[[  19    2  156]\n",
      " [   8  307 2365]\n",
      " [   9  202 5449]]\n"
     ]
    }
   ],
   "source": [
    "cm_train_rf_ae=confusion_matrix(pred_train_rf_ae,y_train)\n",
    "cm_test_rf_ae=confusion_matrix(pred_test_rf_ae,y_test)\n",
    "print(\"confusion matrix for Random Forest Model\")\n",
    "print(cm_train_rf_ae)\n",
    "print(cm_test_rf_ae)"
   ]
  },
  {
   "cell_type": "code",
   "execution_count": 54,
   "metadata": {},
   "outputs": [
    {
     "name": "stdout",
     "output_type": "stream",
     "text": [
      "classification Report for Random Forest Model\n",
      "              precision    recall  f1-score   support\n",
      "\n",
      "           1       0.17      0.79      0.27       145\n",
      "           2       0.13      0.69      0.21      2044\n",
      "           3       0.97      0.68      0.80     31876\n",
      "\n",
      "   micro avg       0.68      0.68      0.68     34065\n",
      "   macro avg       0.42      0.72      0.43     34065\n",
      "weighted avg       0.92      0.68      0.76     34065\n",
      "\n",
      "              precision    recall  f1-score   support\n",
      "\n",
      "           1       0.11      0.53      0.18        36\n",
      "           2       0.11      0.60      0.19       511\n",
      "           3       0.96      0.68      0.80      7970\n",
      "\n",
      "   micro avg       0.68      0.68      0.68      8517\n",
      "   macro avg       0.39      0.60      0.39      8517\n",
      "weighted avg       0.91      0.68      0.76      8517\n",
      "\n"
     ]
    }
   ],
   "source": [
    "print(\"classification Report for Random Forest Model\")\n",
    "print(classification_report(y_train,pred_train_rf_ae))\n",
    "print(classification_report(y_test,pred_test_rf_ae))"
   ]
  },
  {
   "cell_type": "markdown",
   "metadata": {},
   "source": [
    "from sklearn.datasets.samples_generator import make_blobs\n",
    "X_train_updated, y_train = make_blobs(n_samples=300, centers=3,\n",
    "                       cluster_std=0.60, random_state=0)\n",
    "plt.scatter(X_train_updated[:, 0], X_train_updated[:, 1], s=50);"
   ]
  },
  {
   "cell_type": "markdown",
   "metadata": {},
   "source": [
    "sub_file=pd.read_csv(\"samplesubmission-1558719607492.csv\")"
   ]
  },
  {
   "cell_type": "markdown",
   "metadata": {},
   "source": [
    "sub_file.head()"
   ]
  },
  {
   "cell_type": "markdown",
   "metadata": {},
   "source": [
    "sub_file=sub_file.drop(['Unnamed: 0'],axis=1)"
   ]
  },
  {
   "cell_type": "markdown",
   "metadata": {},
   "source": [
    "sub_file.head()"
   ]
  },
  {
   "cell_type": "markdown",
   "metadata": {},
   "source": [
    "sub_file['Suspicious']=test_pred_rf"
   ]
  },
  {
   "cell_type": "markdown",
   "metadata": {},
   "source": [
    "sub_file.to_csv('samplesubmission_rf.csv',index=False)"
   ]
  },
  {
   "cell_type": "markdown",
   "metadata": {},
   "source": [
    "from sklearn.ensemble import ExtraTreesClassifier\n",
    "model = ExtraTreesClassifier()"
   ]
  },
  {
   "cell_type": "markdown",
   "metadata": {},
   "source": [
    "model.fit(X_train_updated,y_train)"
   ]
  },
  {
   "cell_type": "markdown",
   "metadata": {},
   "source": [
    "print(model.feature_importances_)"
   ]
  }
 ],
 "metadata": {
  "kernelspec": {
   "display_name": "Python 3",
   "language": "python",
   "name": "python3"
  },
  "language_info": {
   "codemirror_mode": {
    "name": "ipython",
    "version": 3
   },
   "file_extension": ".py",
   "mimetype": "text/x-python",
   "name": "python",
   "nbconvert_exporter": "python",
   "pygments_lexer": "ipython3",
   "version": "3.6.5"
  }
 },
 "nbformat": 4,
 "nbformat_minor": 2
}
