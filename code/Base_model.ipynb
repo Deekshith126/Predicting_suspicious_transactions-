{
 "cells": [
  {
   "cell_type": "code",
   "execution_count": 1,
   "metadata": {},
   "outputs": [],
   "source": [
    "import pandas as pd\n",
    "import numpy as np\n",
    "import matplotlib.pyplot as plt\n",
    "%matplotlib inline\n",
    "import seaborn as sns\n",
    "import warnings\n",
    "warnings.filterwarnings('ignore')"
   ]
  },
  {
   "cell_type": "code",
   "execution_count": 2,
   "metadata": {},
   "outputs": [],
   "source": [
    "import os\n",
    "os.chdir(\"C:\\\\Users\\\\deeks\\\\Documents\\\\PhD\\\\PHD_TrainData_and_ProblemStatement-1558070454703\\\\PHD_TrainData_and_ProblemStatement\")"
   ]
  },
  {
   "cell_type": "code",
   "execution_count": 3,
   "metadata": {},
   "outputs": [],
   "source": [
    "train_data=pd.read_excel(\"Train.xlsx\",header=0)\n",
    "test_data=pd.read_excel(\"Test.xlsx\",header=0)"
   ]
  },
  {
   "cell_type": "code",
   "execution_count": 4,
   "metadata": {},
   "outputs": [
    {
     "data": {
      "text/html": [
       "<div>\n",
       "<style scoped>\n",
       "    .dataframe tbody tr th:only-of-type {\n",
       "        vertical-align: middle;\n",
       "    }\n",
       "\n",
       "    .dataframe tbody tr th {\n",
       "        vertical-align: top;\n",
       "    }\n",
       "\n",
       "    .dataframe thead th {\n",
       "        text-align: right;\n",
       "    }\n",
       "</style>\n",
       "<table border=\"1\" class=\"dataframe\">\n",
       "  <thead>\n",
       "    <tr style=\"text-align: right;\">\n",
       "      <th></th>\n",
       "      <th>ReportID</th>\n",
       "      <th>SalesPersonID</th>\n",
       "      <th>ProductID</th>\n",
       "      <th>Quantity</th>\n",
       "      <th>TotalSalesValue</th>\n",
       "      <th>Suspicious</th>\n",
       "    </tr>\n",
       "  </thead>\n",
       "  <tbody>\n",
       "    <tr>\n",
       "      <th>0</th>\n",
       "      <td>Rep10101</td>\n",
       "      <td>C21116</td>\n",
       "      <td>PR6112</td>\n",
       "      <td>182</td>\n",
       "      <td>1665</td>\n",
       "      <td>indeterminate</td>\n",
       "    </tr>\n",
       "    <tr>\n",
       "      <th>1</th>\n",
       "      <td>Rep10102</td>\n",
       "      <td>C21116</td>\n",
       "      <td>PR6112</td>\n",
       "      <td>182</td>\n",
       "      <td>1740</td>\n",
       "      <td>indeterminate</td>\n",
       "    </tr>\n",
       "    <tr>\n",
       "      <th>2</th>\n",
       "      <td>Rep10103</td>\n",
       "      <td>C21116</td>\n",
       "      <td>PR6253</td>\n",
       "      <td>101</td>\n",
       "      <td>1040</td>\n",
       "      <td>indeterminate</td>\n",
       "    </tr>\n",
       "    <tr>\n",
       "      <th>3</th>\n",
       "      <td>Rep10104</td>\n",
       "      <td>C21116</td>\n",
       "      <td>PR6253</td>\n",
       "      <td>283</td>\n",
       "      <td>4495</td>\n",
       "      <td>No</td>\n",
       "    </tr>\n",
       "    <tr>\n",
       "      <th>4</th>\n",
       "      <td>Rep10105</td>\n",
       "      <td>C21116</td>\n",
       "      <td>PR6294</td>\n",
       "      <td>108</td>\n",
       "      <td>1465</td>\n",
       "      <td>indeterminate</td>\n",
       "    </tr>\n",
       "  </tbody>\n",
       "</table>\n",
       "</div>"
      ],
      "text/plain": [
       "   ReportID SalesPersonID ProductID  Quantity  TotalSalesValue     Suspicious\n",
       "0  Rep10101        C21116    PR6112       182             1665  indeterminate\n",
       "1  Rep10102        C21116    PR6112       182             1740  indeterminate\n",
       "2  Rep10103        C21116    PR6253       101             1040  indeterminate\n",
       "3  Rep10104        C21116    PR6253       283             4495             No\n",
       "4  Rep10105        C21116    PR6294       108             1465  indeterminate"
      ]
     },
     "execution_count": 4,
     "metadata": {},
     "output_type": "execute_result"
    }
   ],
   "source": [
    "train_data.head()"
   ]
  },
  {
   "cell_type": "code",
   "execution_count": 5,
   "metadata": {},
   "outputs": [
    {
     "data": {
      "text/plain": [
       "ReportID           0\n",
       "SalesPersonID      0\n",
       "ProductID          0\n",
       "Quantity           0\n",
       "TotalSalesValue    0\n",
       "dtype: int64"
      ]
     },
     "execution_count": 5,
     "metadata": {},
     "output_type": "execute_result"
    }
   ],
   "source": [
    "test_data.isnull().sum()"
   ]
  },
  {
   "cell_type": "code",
   "execution_count": 6,
   "metadata": {},
   "outputs": [
    {
     "data": {
      "text/html": [
       "<div>\n",
       "<style scoped>\n",
       "    .dataframe tbody tr th:only-of-type {\n",
       "        vertical-align: middle;\n",
       "    }\n",
       "\n",
       "    .dataframe tbody tr th {\n",
       "        vertical-align: top;\n",
       "    }\n",
       "\n",
       "    .dataframe thead th {\n",
       "        text-align: right;\n",
       "    }\n",
       "</style>\n",
       "<table border=\"1\" class=\"dataframe\">\n",
       "  <thead>\n",
       "    <tr style=\"text-align: right;\">\n",
       "      <th></th>\n",
       "      <th>ReportID</th>\n",
       "      <th>SalesPersonID</th>\n",
       "      <th>ProductID</th>\n",
       "      <th>Quantity</th>\n",
       "      <th>TotalSalesValue</th>\n",
       "      <th>Suspicious</th>\n",
       "    </tr>\n",
       "  </thead>\n",
       "  <tbody>\n",
       "    <tr>\n",
       "      <th>count</th>\n",
       "      <td>42582</td>\n",
       "      <td>42582</td>\n",
       "      <td>42582</td>\n",
       "      <td>4.258200e+04</td>\n",
       "      <td>4.258200e+04</td>\n",
       "      <td>42582</td>\n",
       "    </tr>\n",
       "    <tr>\n",
       "      <th>unique</th>\n",
       "      <td>42582</td>\n",
       "      <td>992</td>\n",
       "      <td>593</td>\n",
       "      <td>NaN</td>\n",
       "      <td>NaN</td>\n",
       "      <td>3</td>\n",
       "    </tr>\n",
       "    <tr>\n",
       "      <th>top</th>\n",
       "      <td>Rep13382</td>\n",
       "      <td>C21976</td>\n",
       "      <td>PR6253</td>\n",
       "      <td>NaN</td>\n",
       "      <td>NaN</td>\n",
       "      <td>indeterminate</td>\n",
       "    </tr>\n",
       "    <tr>\n",
       "      <th>freq</th>\n",
       "      <td>1</td>\n",
       "      <td>1359</td>\n",
       "      <td>2590</td>\n",
       "      <td>NaN</td>\n",
       "      <td>NaN</td>\n",
       "      <td>39846</td>\n",
       "    </tr>\n",
       "    <tr>\n",
       "      <th>mean</th>\n",
       "      <td>NaN</td>\n",
       "      <td>NaN</td>\n",
       "      <td>NaN</td>\n",
       "      <td>4.910048e+03</td>\n",
       "      <td>1.620923e+04</td>\n",
       "      <td>NaN</td>\n",
       "    </tr>\n",
       "    <tr>\n",
       "      <th>std</th>\n",
       "      <td>NaN</td>\n",
       "      <td>NaN</td>\n",
       "      <td>NaN</td>\n",
       "      <td>9.833621e+04</td>\n",
       "      <td>5.997195e+04</td>\n",
       "      <td>NaN</td>\n",
       "    </tr>\n",
       "    <tr>\n",
       "      <th>min</th>\n",
       "      <td>NaN</td>\n",
       "      <td>NaN</td>\n",
       "      <td>NaN</td>\n",
       "      <td>3.300000e+01</td>\n",
       "      <td>5.980000e+02</td>\n",
       "      <td>NaN</td>\n",
       "    </tr>\n",
       "    <tr>\n",
       "      <th>25%</th>\n",
       "      <td>NaN</td>\n",
       "      <td>NaN</td>\n",
       "      <td>NaN</td>\n",
       "      <td>1.110000e+02</td>\n",
       "      <td>1.345000e+03</td>\n",
       "      <td>NaN</td>\n",
       "    </tr>\n",
       "    <tr>\n",
       "      <th>50%</th>\n",
       "      <td>NaN</td>\n",
       "      <td>NaN</td>\n",
       "      <td>NaN</td>\n",
       "      <td>2.060000e+02</td>\n",
       "      <td>2.980000e+03</td>\n",
       "      <td>NaN</td>\n",
       "    </tr>\n",
       "    <tr>\n",
       "      <th>75%</th>\n",
       "      <td>NaN</td>\n",
       "      <td>NaN</td>\n",
       "      <td>NaN</td>\n",
       "      <td>1.136000e+03</td>\n",
       "      <td>1.076500e+04</td>\n",
       "      <td>NaN</td>\n",
       "    </tr>\n",
       "    <tr>\n",
       "      <th>max</th>\n",
       "      <td>NaN</td>\n",
       "      <td>NaN</td>\n",
       "      <td>NaN</td>\n",
       "      <td>1.970813e+07</td>\n",
       "      <td>3.953985e+06</td>\n",
       "      <td>NaN</td>\n",
       "    </tr>\n",
       "  </tbody>\n",
       "</table>\n",
       "</div>"
      ],
      "text/plain": [
       "        ReportID SalesPersonID ProductID      Quantity  TotalSalesValue  \\\n",
       "count      42582         42582     42582  4.258200e+04     4.258200e+04   \n",
       "unique     42582           992       593           NaN              NaN   \n",
       "top     Rep13382        C21976    PR6253           NaN              NaN   \n",
       "freq           1          1359      2590           NaN              NaN   \n",
       "mean         NaN           NaN       NaN  4.910048e+03     1.620923e+04   \n",
       "std          NaN           NaN       NaN  9.833621e+04     5.997195e+04   \n",
       "min          NaN           NaN       NaN  3.300000e+01     5.980000e+02   \n",
       "25%          NaN           NaN       NaN  1.110000e+02     1.345000e+03   \n",
       "50%          NaN           NaN       NaN  2.060000e+02     2.980000e+03   \n",
       "75%          NaN           NaN       NaN  1.136000e+03     1.076500e+04   \n",
       "max          NaN           NaN       NaN  1.970813e+07     3.953985e+06   \n",
       "\n",
       "           Suspicious  \n",
       "count           42582  \n",
       "unique              3  \n",
       "top     indeterminate  \n",
       "freq            39846  \n",
       "mean              NaN  \n",
       "std               NaN  \n",
       "min               NaN  \n",
       "25%               NaN  \n",
       "50%               NaN  \n",
       "75%               NaN  \n",
       "max               NaN  "
      ]
     },
     "execution_count": 6,
     "metadata": {},
     "output_type": "execute_result"
    }
   ],
   "source": [
    "train_data.describe(include='all')"
   ]
  },
  {
   "cell_type": "code",
   "execution_count": 7,
   "metadata": {},
   "outputs": [
    {
     "name": "stdout",
     "output_type": "stream",
     "text": [
      "(593,)\n",
      "(992,)\n",
      "(42582,)\n"
     ]
    }
   ],
   "source": [
    "print(train_data.ProductID.unique().shape)\n",
    "print(train_data.SalesPersonID.unique().shape)\n",
    "print(train_data.ReportID.unique().shape)"
   ]
  },
  {
   "cell_type": "code",
   "execution_count": 8,
   "metadata": {},
   "outputs": [
    {
     "data": {
      "text/plain": [
       "indeterminate    93.574750\n",
       "No                6.000188\n",
       "Yes               0.425062\n",
       "Name: Suspicious, dtype: float64"
      ]
     },
     "execution_count": 8,
     "metadata": {},
     "output_type": "execute_result"
    }
   ],
   "source": [
    "100*train_data.Suspicious.value_counts()/len(train_data.Suspicious)"
   ]
  },
  {
   "cell_type": "code",
   "execution_count": 9,
   "metadata": {},
   "outputs": [],
   "source": [
    "y = train_data[\"Suspicious\"]\n",
    "X = train_data.drop('Suspicious', axis = 1)"
   ]
  },
  {
   "cell_type": "code",
   "execution_count": 10,
   "metadata": {},
   "outputs": [],
   "source": [
    "from sklearn.model_selection import train_test_split\n",
    "X_train,X_test,y_train,y_test=train_test_split(X,y,test_size=0.2,stratify=y,random_state=0)"
   ]
  },
  {
   "cell_type": "code",
   "execution_count": 11,
   "metadata": {},
   "outputs": [],
   "source": [
    "X_train['Price_of_oneProduct'] = X_train.apply(lambda row: row.TotalSalesValue / row.Quantity, axis = 1)\n",
    "X_test['Price_of_oneProduct'] = X_test.apply(lambda row: row.TotalSalesValue / row.Quantity, axis = 1)"
   ]
  },
  {
   "cell_type": "code",
   "execution_count": 12,
   "metadata": {},
   "outputs": [],
   "source": [
    "X_train_df=X_train.groupby([\"ProductID\"]).median()\n",
    "X_test_df=X_test.groupby([\"ProductID\"]).median()"
   ]
  },
  {
   "cell_type": "code",
   "execution_count": 13,
   "metadata": {},
   "outputs": [],
   "source": [
    "X_train_df=X_train_df.drop(['TotalSalesValue','Quantity'],axis = 1)\n",
    "X_test_df=X_test_df.drop(['TotalSalesValue','Quantity'],axis = 1)"
   ]
  },
  {
   "cell_type": "code",
   "execution_count": 14,
   "metadata": {},
   "outputs": [],
   "source": [
    "X_train_df=X_train_df.rename(columns={'Price_of_oneProduct': 'Avg_of_eachProduct'})\n",
    "X_test_df=X_test_df.rename(columns={'Price_of_oneProduct': 'Avg_of_eachProduct'})"
   ]
  },
  {
   "cell_type": "code",
   "execution_count": 15,
   "metadata": {},
   "outputs": [],
   "source": [
    "X_train_updated = X_train.join(X_train_df, on='ProductID')\n",
    "X_test_updated = X_test.join(X_test_df, on='ProductID')"
   ]
  },
  {
   "cell_type": "markdown",
   "metadata": {},
   "source": [
    "X_train_data1 = X_train_updated.groupby(['SalesPersonID'])[['TotalSalesValue']].median()\n",
    "X_train_data1 = X_train_data1.rename(columns={'TotalSalesValue': 'Average sales per person'})\n",
    "X_train_updated = X_train_updated.join(X_train_data1,on = ['SalesPersonID'])"
   ]
  },
  {
   "cell_type": "markdown",
   "metadata": {},
   "source": [
    "X_test_data1 = X_test_updated.groupby(['SalesPersonID'])[['TotalSalesValue']].median()\n",
    "X_test_data1 = X_test_data1.rename(columns={'TotalSalesValue': 'Average sales per person'})\n",
    "X_test_updated = X_test_updated.join(X_test_data1,on = ['SalesPersonID'])"
   ]
  },
  {
   "cell_type": "code",
   "execution_count": 16,
   "metadata": {},
   "outputs": [
    {
     "name": "stdout",
     "output_type": "stream",
     "text": [
      "(34065, 7)\n",
      "(8517, 7)\n"
     ]
    }
   ],
   "source": [
    "print(X_train_updated.shape)\n",
    "print(X_test_updated.shape)"
   ]
  },
  {
   "cell_type": "code",
   "execution_count": 17,
   "metadata": {},
   "outputs": [],
   "source": [
    "X_train_data2 = X_train_updated.groupby(['SalesPersonID'])[['Quantity']].mean()\n",
    "X_train_data2 = X_train_data2.rename(columns={'Quantity': 'Average amount Quantity per Person'})\n",
    "X_train_updated = X_train_updated.join(X_train_data2,on=['SalesPersonID'])"
   ]
  },
  {
   "cell_type": "code",
   "execution_count": 18,
   "metadata": {},
   "outputs": [],
   "source": [
    "X_test_data2 = X_test_updated.groupby(['SalesPersonID'])[['Quantity']].mean()\n",
    "X_test_data2 = X_test_data2.rename(columns={'Quantity': 'Average amount Quantity per Person'})\n",
    "X_test_updated = X_test_updated.join(X_test_data2,on=['SalesPersonID'])"
   ]
  },
  {
   "cell_type": "markdown",
   "metadata": {},
   "source": [
    "X_train_data3 = X_train_updated.groupby(['SalesPersonID'])[['ProductID']].count()\n",
    "X_train_data3 = X_train_data3.rename(columns={'ProductID': 'No of products per person'})\n",
    "X_train_updated = X_train_updated.join(X_train_data3,on=['SalesPersonID'])"
   ]
  },
  {
   "cell_type": "markdown",
   "metadata": {},
   "source": [
    "X_test_data3 = X_test_updated.groupby(['SalesPersonID'])[['ProductID']].count()\n",
    "X_test_data3 = X_test_data3.rename(columns={'ProductID': 'No of products per person'})\n",
    "X_test_updated = X_test_updated.join(X_test_data3,on=['SalesPersonID'])"
   ]
  },
  {
   "cell_type": "code",
   "execution_count": 19,
   "metadata": {},
   "outputs": [],
   "source": [
    "X_train_data4 = X_train_updated.groupby(['SalesPersonID','ProductID'])[['Quantity']].sum()\n",
    "X_train_data4=X_train_data4.rename(columns={'Quantity': 'sum of each product quuantity per person'})\n",
    "X_train_updated = X_train_updated.join(X_train_data4,on=['SalesPersonID','ProductID'])"
   ]
  },
  {
   "cell_type": "code",
   "execution_count": 20,
   "metadata": {},
   "outputs": [],
   "source": [
    "X_test_data4 = X_test_updated.groupby(['SalesPersonID','ProductID'])[['Quantity']].sum()\n",
    "X_test_data4=X_test_data4.rename(columns={'Quantity': 'sum of each product quuantity per person'})\n",
    "X_test_updated = X_test_updated.join(X_test_data4,on=['SalesPersonID','ProductID'])"
   ]
  },
  {
   "cell_type": "markdown",
   "metadata": {},
   "source": [
    "X_train_data5 = X_train_updated.groupby(['SalesPersonID','ProductID'])[['TotalSalesValue']].sum()\n",
    "X_train_data5 =X_train_data5.rename(columns={'TotalSalesValue': 'sum of each product sales per person'})\n",
    "X_train_updated = X_train_updated.join(X_train_data5,on=['SalesPersonID','ProductID'])"
   ]
  },
  {
   "cell_type": "markdown",
   "metadata": {},
   "source": [
    "X_test_data5 = X_test_updated.groupby(['SalesPersonID','ProductID'])[['TotalSalesValue']].sum()\n",
    "X_test_data5 =X_test_data5.rename(columns={'TotalSalesValue': 'sum of each product sales per person'})\n",
    "X_test_updated = X_test_updated.join(X_test_data5,on=['SalesPersonID','ProductID'])"
   ]
  },
  {
   "cell_type": "code",
   "execution_count": 21,
   "metadata": {},
   "outputs": [],
   "source": [
    "X_train_data6 = X_train_updated.groupby(['SalesPersonID','ProductID'])[['TotalSalesValue']].median()\n",
    "X_train_data6 =X_train_data6.rename(columns={'TotalSalesValue': 'Avg of each product sales per person'})\n",
    "X_train_updated = X_train_updated.join(X_train_data6,on=['SalesPersonID','ProductID'])"
   ]
  },
  {
   "cell_type": "code",
   "execution_count": 22,
   "metadata": {},
   "outputs": [],
   "source": [
    "X_test_data6 = X_test_updated.groupby(['SalesPersonID','ProductID'])[['TotalSalesValue']].median()\n",
    "X_test_data6 =X_test_data6.rename(columns={'TotalSalesValue': 'Avg of each product sales per person'})\n",
    "X_test_updated = X_test_updated.join(X_test_data6,on=['SalesPersonID','ProductID'])"
   ]
  },
  {
   "cell_type": "markdown",
   "metadata": {},
   "source": [
    "X_train_data7 = X_train_updated.groupby(['SalesPersonID','ProductID'])[['Quantity']].mean()\n",
    "X_train_data7 =X_train_data7.rename(columns={'Quantity': 'Avg of each product quuantity per person'})\n",
    "X_train_updated = X_train_updated.join(X_train_data7,on=['SalesPersonID','ProductID'])"
   ]
  },
  {
   "cell_type": "markdown",
   "metadata": {},
   "source": [
    "X_test_data7 = X_test_updated.groupby(['SalesPersonID','ProductID'])[['Quantity']].mean()\n",
    "X_test_data7 =X_test_data7.rename(columns={'Quantity': 'Avg of each product quuantity per person'})\n",
    "X_test_updated = X_test_updated.join(X_test_data7,on=['SalesPersonID','ProductID'])"
   ]
  },
  {
   "cell_type": "code",
   "execution_count": 23,
   "metadata": {},
   "outputs": [],
   "source": [
    "X_train_data8=X_train_updated.groupby(['ProductID'])[['Quantity']].mean()\n",
    "X_train_data8 = X_train_data8.rename(columns={'Quantity': 'Average amount Quantity per Product'})\n",
    "X_train_updated = X_train_updated.join(X_train_data8,on=['ProductID'])"
   ]
  },
  {
   "cell_type": "code",
   "execution_count": 24,
   "metadata": {},
   "outputs": [],
   "source": [
    "X_test_data8=X_test_updated.groupby(['ProductID'])[['Quantity']].mean()\n",
    "X_test_data8 = X_test_data8.rename(columns={'Quantity': 'Average amount Quantity per Product'})\n",
    "X_test_updated = X_test_updated.join(X_test_data8,on=['ProductID'])"
   ]
  },
  {
   "cell_type": "code",
   "execution_count": 25,
   "metadata": {},
   "outputs": [],
   "source": [
    "X_train_data9=X_train_updated.groupby(['ProductID'])[['TotalSalesValue']].median()\n",
    "X_train_data9 = X_train_data9.rename(columns={'TotalSalesValue': 'Average sales per Product'})\n",
    "X_train_updated = X_train_updated.join(X_train_data9,on=['ProductID'])"
   ]
  },
  {
   "cell_type": "code",
   "execution_count": 26,
   "metadata": {},
   "outputs": [],
   "source": [
    "X_test_data9=X_test_updated.groupby(['ProductID'])[['TotalSalesValue']].median()\n",
    "X_test_data9 = X_test_data9.rename(columns={'TotalSalesValue': 'Average sales per Product'})\n",
    "X_test_updated = X_test_updated.join(X_test_data9,on=['ProductID'])"
   ]
  },
  {
   "cell_type": "code",
   "execution_count": 27,
   "metadata": {},
   "outputs": [],
   "source": [
    "X_train_data10=X_train_updated.groupby(['ProductID'])[['TotalSalesValue']].median()\n",
    "X_train_data10 = X_train_data10.rename(columns={'TotalSalesValue': 'Average salesvalue per Product'})\n",
    "X_train_updated = X_train_updated.join(X_train_data10,on=['ProductID'])"
   ]
  },
  {
   "cell_type": "code",
   "execution_count": 28,
   "metadata": {},
   "outputs": [],
   "source": [
    "X_test_data10=X_test_updated.groupby(['ProductID'])[['TotalSalesValue']].median()\n",
    "X_test_data10 = X_test_data10.rename(columns={'TotalSalesValue': 'Average salesvalue per Product'})\n",
    "X_test_updated = X_test_updated.join(X_test_data10,on=['ProductID'])"
   ]
  },
  {
   "cell_type": "markdown",
   "metadata": {},
   "source": [
    "X_train_data11 = X_train_updated.groupby(['SalesPersonID'])[['TotalSalesValue']].median()\n",
    "X_train_data11 = X_train_data11.rename(columns={'TotalSalesValue': 'Average salesvalue per Person'})\n",
    "X_train_updated = X_train_updated.join(X_train_data11,on=['SalesPersonID'])"
   ]
  },
  {
   "cell_type": "markdown",
   "metadata": {},
   "source": [
    "X_test_data11 = X_test_updated.groupby(['SalesPersonID'])[['TotalSalesValue']].median()\n",
    "X_test_data11 = X_test_data11.rename(columns={'TotalSalesValue': 'Average salesvalue per Person'})\n",
    "X_test_updated = X_test_updated.join(X_test_data11,on=['SalesPersonID'])"
   ]
  },
  {
   "cell_type": "markdown",
   "metadata": {},
   "source": [
    "X_train_updated['ratio for quantity per person'] = X_train_updated['Quantity']/X_train_updated['Average amount Quantity per Person']\n",
    "X_test_updated['ratio for quantity per person'] = X_test_updated['Quantity']/X_test_updated['Average amount Quantity per Person']"
   ]
  },
  {
   "cell_type": "markdown",
   "metadata": {},
   "source": [
    "X_train_updated['ratio for salesvalue per person'] = X_train_updated['TotalSalesValue']/X_train_updated['Average salesvalue per Person']\n",
    "X_test_updated['ratio for salesvalue per person'] = X_test_updated['TotalSalesValue']/X_test_updated['Average salesvalue per Person']"
   ]
  },
  {
   "cell_type": "code",
   "execution_count": 29,
   "metadata": {},
   "outputs": [],
   "source": [
    "test_data['Price_of_oneProduct'] = test_data.apply(lambda row: row.TotalSalesValue / row.Quantity, axis = 1)"
   ]
  },
  {
   "cell_type": "code",
   "execution_count": 30,
   "metadata": {},
   "outputs": [],
   "source": [
    "test_df=test_data.groupby([\"ProductID\"]).median()\n",
    "test_df=test_df.drop(['TotalSalesValue','Quantity'],axis = 1)\n",
    "test_df=test_df.rename(columns={'Price_of_oneProduct': 'Avg_of_eachProduct'})\n",
    "test_data_updated = test_data.join(test_df, on='ProductID')"
   ]
  },
  {
   "cell_type": "code",
   "execution_count": 31,
   "metadata": {},
   "outputs": [],
   "source": [
    "test_data1 = test_data_updated.groupby(['SalesPersonID'])[['TotalSalesValue']].median()\n",
    "test_data1 = test_data1.rename(columns={'TotalSalesValue': 'Average sales per person'})\n",
    "test_data_updated = test_data_updated.join(test_data1,on = ['SalesPersonID'])"
   ]
  },
  {
   "cell_type": "code",
   "execution_count": 32,
   "metadata": {},
   "outputs": [],
   "source": [
    "test_data2 = test_data_updated.groupby(['SalesPersonID'])[['Quantity']].mean()\n",
    "test_data2 = test_data2.rename(columns={'Quantity': 'Average amount Quantity per Person'})\n",
    "test_data_updated = test_data_updated.join(test_data2,on=['SalesPersonID'])"
   ]
  },
  {
   "cell_type": "markdown",
   "metadata": {},
   "source": [
    "test_data3 = test_data_updated.groupby(['SalesPersonID'])[['ProductID']].count()\n",
    "test_data3 = test_data3.rename(columns={'ProductID': 'No of products per person'})\n",
    "test_data_updated = test_data_updated.join(test_data3,on=['SalesPersonID'])"
   ]
  },
  {
   "cell_type": "markdown",
   "metadata": {},
   "source": [
    "test_data4 = test_data_updated.groupby(['SalesPersonID','ProductID'])[['Quantity']].sum()\n",
    "test_data4=test_data4.rename(columns={'Quantity': 'sum of each product quuantity per person'})\n",
    "test_data_updated = test_data_updated.join(test_data4,on=['SalesPersonID','ProductID'])"
   ]
  },
  {
   "cell_type": "markdown",
   "metadata": {},
   "source": [
    "test_data5 = test_data_updated.groupby(['SalesPersonID','ProductID'])[['TotalSalesValue']].sum()\n",
    "test_data5 =test_data5.rename(columns={'TotalSalesValue': 'sum of each product sales per person'})\n",
    "test_data_updated = test_data_updated.join(test_data5,on=['SalesPersonID','ProductID'])"
   ]
  },
  {
   "cell_type": "code",
   "execution_count": 33,
   "metadata": {},
   "outputs": [],
   "source": [
    "test_data6 = test_data_updated.groupby(['SalesPersonID','ProductID'])[['TotalSalesValue']].median()\n",
    "test_data6 =test_data6.rename(columns={'TotalSalesValue': 'Avg of each product sales per person'})\n",
    "test_data_updated = test_data_updated.join(test_data6,on=['SalesPersonID','ProductID'])"
   ]
  },
  {
   "cell_type": "markdown",
   "metadata": {},
   "source": [
    "test_data7 = test_data_updated.groupby(['SalesPersonID','ProductID'])[['Quantity']].mean()\n",
    "test_data7 =test_data7.rename(columns={'Quantity': 'Avg of each product quuantity per person'})\n",
    "test_data_updated = test_data_updated.join(test_data7,on=['SalesPersonID','ProductID'])"
   ]
  },
  {
   "cell_type": "code",
   "execution_count": 34,
   "metadata": {},
   "outputs": [],
   "source": [
    "test_data8 = test_data_updated.groupby(['ProductID'])[['Quantity']].mean()\n",
    "test_data8 = test_data8.rename(columns={'Quantity': 'Average amount Quantity per Product'})\n",
    "test_data_updated = test_data_updated.join(test_data8,on=['ProductID'])"
   ]
  },
  {
   "cell_type": "code",
   "execution_count": 35,
   "metadata": {},
   "outputs": [],
   "source": [
    "test_data9=test_data_updated.groupby(['ProductID'])[['TotalSalesValue']].median()\n",
    "test_data9 = test_data9.rename(columns={'TotalSalesValue': 'Average sales per Product'})\n",
    "test_data_updated = test_data_updated.join(test_data9,on=['ProductID'])"
   ]
  },
  {
   "cell_type": "code",
   "execution_count": 36,
   "metadata": {},
   "outputs": [],
   "source": [
    "test_data10 = test_data_updated.groupby(['ProductID'])[['TotalSalesValue']].median()\n",
    "test_data10 = test_data10.rename(columns={'TotalSalesValue': 'Average salesvalue per Product'})\n",
    "test_data_updated = test_data_updated.join(test_data10,on=['ProductID'])"
   ]
  },
  {
   "cell_type": "markdown",
   "metadata": {},
   "source": [
    "test_data11 = test_data_updated.groupby(['SalesPersonID'])[['TotalSalesValue']].median()\n",
    "test_data11 = test_data11.rename(columns={'TotalSalesValue': 'Average salesvalue per Person'})\n",
    "test_data_updated = test_data_updated.join(test_data11,on=['SalesPersonID'])"
   ]
  },
  {
   "cell_type": "markdown",
   "metadata": {},
   "source": [
    "test_data_updated['ratio for quantity per person'] = test_data_updated['Quantity']/test_data_updated['Average amount Quantity per Person']"
   ]
  },
  {
   "cell_type": "markdown",
   "metadata": {},
   "source": [
    "test_data_updated['ratio for salesvalue per person'] = test_data_updated['TotalSalesValue']/test_data_updated['Average salesvalue per Person']"
   ]
  },
  {
   "cell_type": "code",
   "execution_count": 37,
   "metadata": {},
   "outputs": [
    {
     "name": "stdout",
     "output_type": "stream",
     "text": [
      "(34065, 13)\n",
      "(8517, 13)\n",
      "(9135, 13)\n"
     ]
    }
   ],
   "source": [
    "print(X_train_updated.shape)\n",
    "print(X_test_updated.shape)\n",
    "print(test_data_updated.shape)"
   ]
  },
  {
   "cell_type": "code",
   "execution_count": 38,
   "metadata": {},
   "outputs": [],
   "source": [
    "y_train=pd.DataFrame(y_train)\n",
    "y_test=pd.DataFrame(y_test)"
   ]
  },
  {
   "cell_type": "code",
   "execution_count": 39,
   "metadata": {},
   "outputs": [],
   "source": [
    "y_train=y_train.Suspicious.replace(['Yes','No','indeterminate'],['1','2','3'])\n",
    "y_test=y_test.Suspicious.replace(['Yes','No','indeterminate'],['1','2','3'])"
   ]
  },
  {
   "cell_type": "code",
   "execution_count": 40,
   "metadata": {},
   "outputs": [],
   "source": [
    "X_train_updated=X_train_updated.drop(['ReportID', 'SalesPersonID', 'ProductID'],axis=1)\n",
    "X_test_updated=X_test_updated.drop(['ReportID', 'SalesPersonID', 'ProductID'],axis=1)\n",
    "test_data_updated=test_data_updated.drop(['ReportID', 'SalesPersonID', 'ProductID'],axis=1)"
   ]
  },
  {
   "cell_type": "code",
   "execution_count": 41,
   "metadata": {},
   "outputs": [
    {
     "data": {
      "text/html": [
       "<div>\n",
       "<style scoped>\n",
       "    .dataframe tbody tr th:only-of-type {\n",
       "        vertical-align: middle;\n",
       "    }\n",
       "\n",
       "    .dataframe tbody tr th {\n",
       "        vertical-align: top;\n",
       "    }\n",
       "\n",
       "    .dataframe thead th {\n",
       "        text-align: right;\n",
       "    }\n",
       "</style>\n",
       "<table border=\"1\" class=\"dataframe\">\n",
       "  <thead>\n",
       "    <tr style=\"text-align: right;\">\n",
       "      <th></th>\n",
       "      <th>Quantity</th>\n",
       "      <th>TotalSalesValue</th>\n",
       "      <th>Price_of_oneProduct</th>\n",
       "      <th>Avg_of_eachProduct</th>\n",
       "      <th>Average sales per person</th>\n",
       "      <th>Average amount Quantity per Person</th>\n",
       "      <th>Avg of each product sales per person</th>\n",
       "      <th>Average amount Quantity per Product</th>\n",
       "      <th>Average sales per Product</th>\n",
       "      <th>Average salesvalue per Product</th>\n",
       "    </tr>\n",
       "  </thead>\n",
       "  <tbody>\n",
       "    <tr>\n",
       "      <th>0</th>\n",
       "      <td>102</td>\n",
       "      <td>1115</td>\n",
       "      <td>10.931373</td>\n",
       "      <td>9.437500</td>\n",
       "      <td>1095.0</td>\n",
       "      <td>147.3</td>\n",
       "      <td>1115.0</td>\n",
       "      <td>192.702128</td>\n",
       "      <td>1455.0</td>\n",
       "      <td>1455.0</td>\n",
       "    </tr>\n",
       "    <tr>\n",
       "      <th>1</th>\n",
       "      <td>102</td>\n",
       "      <td>1050</td>\n",
       "      <td>10.294118</td>\n",
       "      <td>10.869565</td>\n",
       "      <td>1095.0</td>\n",
       "      <td>147.3</td>\n",
       "      <td>1050.0</td>\n",
       "      <td>387.523077</td>\n",
       "      <td>1450.0</td>\n",
       "      <td>1450.0</td>\n",
       "    </tr>\n",
       "    <tr>\n",
       "      <th>2</th>\n",
       "      <td>344</td>\n",
       "      <td>3490</td>\n",
       "      <td>10.145349</td>\n",
       "      <td>10.849359</td>\n",
       "      <td>1095.0</td>\n",
       "      <td>147.3</td>\n",
       "      <td>2252.5</td>\n",
       "      <td>729.142384</td>\n",
       "      <td>2210.0</td>\n",
       "      <td>2210.0</td>\n",
       "    </tr>\n",
       "    <tr>\n",
       "      <th>3</th>\n",
       "      <td>108</td>\n",
       "      <td>1095</td>\n",
       "      <td>10.138889</td>\n",
       "      <td>15.594714</td>\n",
       "      <td>1095.0</td>\n",
       "      <td>147.3</td>\n",
       "      <td>1095.0</td>\n",
       "      <td>130.835443</td>\n",
       "      <td>2000.0</td>\n",
       "      <td>2000.0</td>\n",
       "    </tr>\n",
       "    <tr>\n",
       "      <th>4</th>\n",
       "      <td>146</td>\n",
       "      <td>1055</td>\n",
       "      <td>7.226027</td>\n",
       "      <td>9.501085</td>\n",
       "      <td>1095.0</td>\n",
       "      <td>147.3</td>\n",
       "      <td>1090.0</td>\n",
       "      <td>204.454545</td>\n",
       "      <td>1090.0</td>\n",
       "      <td>1090.0</td>\n",
       "    </tr>\n",
       "  </tbody>\n",
       "</table>\n",
       "</div>"
      ],
      "text/plain": [
       "   Quantity  TotalSalesValue  Price_of_oneProduct  Avg_of_eachProduct  \\\n",
       "0       102             1115            10.931373            9.437500   \n",
       "1       102             1050            10.294118           10.869565   \n",
       "2       344             3490            10.145349           10.849359   \n",
       "3       108             1095            10.138889           15.594714   \n",
       "4       146             1055             7.226027            9.501085   \n",
       "\n",
       "   Average sales per person  Average amount Quantity per Person  \\\n",
       "0                    1095.0                               147.3   \n",
       "1                    1095.0                               147.3   \n",
       "2                    1095.0                               147.3   \n",
       "3                    1095.0                               147.3   \n",
       "4                    1095.0                               147.3   \n",
       "\n",
       "   Avg of each product sales per person  Average amount Quantity per Product  \\\n",
       "0                                1115.0                           192.702128   \n",
       "1                                1050.0                           387.523077   \n",
       "2                                2252.5                           729.142384   \n",
       "3                                1095.0                           130.835443   \n",
       "4                                1090.0                           204.454545   \n",
       "\n",
       "   Average sales per Product  Average salesvalue per Product  \n",
       "0                     1455.0                          1455.0  \n",
       "1                     1450.0                          1450.0  \n",
       "2                     2210.0                          2210.0  \n",
       "3                     2000.0                          2000.0  \n",
       "4                     1090.0                          1090.0  "
      ]
     },
     "execution_count": 41,
     "metadata": {},
     "output_type": "execute_result"
    }
   ],
   "source": [
    "test_data_updated.head()"
   ]
  },
  {
   "cell_type": "markdown",
   "metadata": {},
   "source": [
    "X_train_updated=X_train_updated.drop(['ReportID', 'SalesPersonID', 'ProductID','Average sales per person','Average amount Quantity per Person','sum of each product quuantity per person'],axis=1)\n",
    "X_test_updated=X_test_updated.drop(['ReportID', 'SalesPersonID', 'ProductID','Average sales per person','Average amount Quantity per Person','sum of each product quuantity per person'],axis=1)"
   ]
  },
  {
   "cell_type": "markdown",
   "metadata": {},
   "source": [
    "from sklearn.preprocessing import StandardScaler\n",
    "sc = StandardScaler()\n",
    "X_train_updated = sc.fit_transform(X_train_updated)\n",
    "X_test_updated = sc.transform(X_test_updated)\n",
    "test_data_updated=sc.transform(test_data_updated)"
   ]
  },
  {
   "cell_type": "markdown",
   "metadata": {},
   "source": [
    "from sklearn.metrics import classification_report\n",
    "from sklearn.model_selection import GridSearchCV\n",
    "from sklearn.ensemble import RandomForestClassifier\n",
    "rfc = RandomForestClassifier(n_jobs=-1) \n",
    "param_grid = {\"criterion\": [\"gini\", \"entropy\"],\n",
    "              \"max_features\": [2,3,4,5,6,7,8,9,10,11,12,13,14],\n",
    "              \"n_estimators\":[100,200,300,400,500,600,700,800,900,1000],\n",
    "              \"min_samples_leaf\":[1,3,5],\n",
    "              \"max_depth\": [2,5,7,9,11,13],\n",
    "              }\n",
    "scores = ['precision', 'recall']"
   ]
  },
  {
   "cell_type": "markdown",
   "metadata": {},
   "source": [
    "clf = RandomForestClassifier(n_jobs=-1,class_weight=\"balanced\",random_state=42)\n",
    "rf = GridSearchCV(clf, param_grid, cv=10)"
   ]
  },
  {
   "cell_type": "markdown",
   "metadata": {},
   "source": [
    "from sklearn.model_selection import GridSearchCV\n",
    "from sklearn.ensemble import RandomForestClassifier\n",
    "param_grid = {\"criterion\": [\"gini\", \"entropy\"],\n",
    "              \"n_estimators\":[300,400,600,700],\n",
    "              \"min_samples_leaf\":[1,3,5],\n",
    "              \"max_depth\": [2,5,7],\n",
    "              }"
   ]
  },
  {
   "cell_type": "code",
   "execution_count": 42,
   "metadata": {},
   "outputs": [],
   "source": [
    "from sklearn.ensemble import RandomForestClassifier\n",
    "from sklearn import tree\n",
    "rf= RandomForestClassifier(criterion='gini',n_estimators=450,max_features=2,class_weight=\"balanced\",max_depth=4) \n",
    "dt = tree.DecisionTreeClassifier(criterion='gini',class_weight='balanced',max_depth=3,max_features=2)\n",
    "#rf= GridSearchCV(estimator=clf, param_grid=param_grid, cv= 10)"
   ]
  },
  {
   "cell_type": "code",
   "execution_count": 43,
   "metadata": {},
   "outputs": [
    {
     "data": {
      "text/plain": [
       "DecisionTreeClassifier(class_weight='balanced', criterion='gini', max_depth=3,\n",
       "            max_features=2, max_leaf_nodes=None, min_impurity_decrease=0.0,\n",
       "            min_impurity_split=None, min_samples_leaf=1,\n",
       "            min_samples_split=2, min_weight_fraction_leaf=0.0,\n",
       "            presort=False, random_state=None, splitter='best')"
      ]
     },
     "execution_count": 43,
     "metadata": {},
     "output_type": "execute_result"
    }
   ],
   "source": [
    "rf.fit(X_train_updated,y_train)\n",
    "dt.fit(X_train_updated,y_train)"
   ]
  },
  {
   "cell_type": "code",
   "execution_count": 44,
   "metadata": {},
   "outputs": [],
   "source": [
    "from xgboost import XGBClassifier\n",
    "xgb=XGBClassifier(n_estimators=250,gamma=0.8,learning_rate=0.2,max_depth=2)"
   ]
  },
  {
   "cell_type": "code",
   "execution_count": 45,
   "metadata": {},
   "outputs": [],
   "source": [
    "xgb.fit(X_train_updated,y_train);"
   ]
  },
  {
   "cell_type": "code",
   "execution_count": 46,
   "metadata": {},
   "outputs": [],
   "source": [
    "pred_train_xgb=xgb.predict(X_train_updated)\n",
    "pred_test_xgb=xgb.predict(X_test_updated)"
   ]
  },
  {
   "cell_type": "code",
   "execution_count": 47,
   "metadata": {},
   "outputs": [],
   "source": [
    "pred_train_rf=rf.predict(X_train_updated)\n",
    "pred_test_rf=rf.predict(X_test_updated)"
   ]
  },
  {
   "cell_type": "code",
   "execution_count": 48,
   "metadata": {},
   "outputs": [],
   "source": [
    "pred_train_dt=dt.predict(X_train_updated)\n",
    "pred_test_dt=dt.predict(X_test_updated)"
   ]
  },
  {
   "cell_type": "code",
   "execution_count": 49,
   "metadata": {},
   "outputs": [
    {
     "name": "stdout",
     "output_type": "stream",
     "text": [
      "confusion matrix for Random Forest Model\n",
      "[[  119    30  1637]\n",
      " [   10  1330  6556]\n",
      " [   16   684 23683]]\n",
      "[[  19    7  321]\n",
      " [   6  258 1431]\n",
      " [  11  246 6218]]\n"
     ]
    }
   ],
   "source": [
    "from sklearn.metrics import confusion_matrix\n",
    "cm_train_rf=confusion_matrix(pred_train_rf,y_train)\n",
    "cm_test_rf=confusion_matrix(pred_test_rf,y_test)\n",
    "print(\"confusion matrix for Random Forest Model\")\n",
    "print(cm_train_rf)\n",
    "print(cm_test_rf)"
   ]
  },
  {
   "cell_type": "code",
   "execution_count": 50,
   "metadata": {},
   "outputs": [
    {
     "name": "stdout",
     "output_type": "stream",
     "text": [
      "confusion matrix for Decision Tree Model\n",
      "[[  126   479  6365]\n",
      " [    0     0     0]\n",
      " [   19  1565 25511]]\n",
      "[[  22   83 1118]\n",
      " [   0    0    0]\n",
      " [  14  428 6852]]\n"
     ]
    }
   ],
   "source": [
    "cm_train_dt=confusion_matrix(pred_train_dt,y_train)\n",
    "cm_test_dt=confusion_matrix(pred_test_dt,y_test)\n",
    "print(\"confusion matrix for Decision Tree Model\")\n",
    "print(cm_train_dt)\n",
    "print(cm_test_dt)"
   ]
  },
  {
   "cell_type": "markdown",
   "metadata": {},
   "source": [
    "cm_train_xgb=confusion_matrix(pred_train_xgb,y_train)\n",
    "cm_test_xgb=confusion_matrix(pred_test_xgb,y_test)\n",
    "print(\"confusion matrix for XG Boost Model\")\n",
    "print(cm_train_xgb)\n",
    "print(cm_test_xgb)"
   ]
  },
  {
   "cell_type": "code",
   "execution_count": 51,
   "metadata": {},
   "outputs": [
    {
     "name": "stdout",
     "output_type": "stream",
     "text": [
      "classification Report for Random Forest Model\n",
      "              precision    recall  f1-score   support\n",
      "\n",
      "           1       0.07      0.82      0.12       145\n",
      "           2       0.17      0.65      0.27      2044\n",
      "           3       0.97      0.74      0.84     31876\n",
      "\n",
      "   micro avg       0.74      0.74      0.74     34065\n",
      "   macro avg       0.40      0.74      0.41     34065\n",
      "weighted avg       0.92      0.74      0.80     34065\n",
      "\n",
      "              precision    recall  f1-score   support\n",
      "\n",
      "           1       0.05      0.53      0.10        36\n",
      "           2       0.15      0.50      0.23       511\n",
      "           3       0.96      0.78      0.86      7970\n",
      "\n",
      "   micro avg       0.76      0.76      0.76      8517\n",
      "   macro avg       0.39      0.60      0.40      8517\n",
      "weighted avg       0.91      0.76      0.82      8517\n",
      "\n"
     ]
    }
   ],
   "source": [
    "from sklearn.metrics import classification_report\n",
    "print(\"classification Report for Random Forest Model\")\n",
    "print(classification_report(y_train,pred_train_rf))\n",
    "print(classification_report(y_test,pred_test_rf))"
   ]
  },
  {
   "cell_type": "code",
   "execution_count": 52,
   "metadata": {},
   "outputs": [
    {
     "name": "stdout",
     "output_type": "stream",
     "text": [
      "classification Report for Decision Tree Model\n",
      "              precision    recall  f1-score   support\n",
      "\n",
      "           1       0.02      0.87      0.04       145\n",
      "           2       0.00      0.00      0.00      2044\n",
      "           3       0.94      0.80      0.87     31876\n",
      "\n",
      "   micro avg       0.75      0.75      0.75     34065\n",
      "   macro avg       0.32      0.56      0.30     34065\n",
      "weighted avg       0.88      0.75      0.81     34065\n",
      "\n",
      "              precision    recall  f1-score   support\n",
      "\n",
      "           1       0.02      0.61      0.03        36\n",
      "           2       0.00      0.00      0.00       511\n",
      "           3       0.94      0.86      0.90      7970\n",
      "\n",
      "   micro avg       0.81      0.81      0.81      8517\n",
      "   macro avg       0.32      0.49      0.31      8517\n",
      "weighted avg       0.88      0.81      0.84      8517\n",
      "\n"
     ]
    }
   ],
   "source": [
    "print(\"classification Report for Decision Tree Model\")\n",
    "print(classification_report(y_train,pred_train_dt))\n",
    "print(classification_report(y_test,pred_test_dt))"
   ]
  },
  {
   "cell_type": "markdown",
   "metadata": {},
   "source": [
    "print(\"Classification Report of XG Boost Model\")\n",
    "print(classification_report(y_train,pred_train_xgb))\n",
    "print(classification_report(y_test,pred_test_xgb))"
   ]
  },
  {
   "cell_type": "code",
   "execution_count": 53,
   "metadata": {},
   "outputs": [],
   "source": [
    "test_pred_rf = rf.predict(test_data_updated)"
   ]
  },
  {
   "cell_type": "markdown",
   "metadata": {},
   "source": [
    "num_cols=['Quantity', 'TotalSalesValue', 'Price_of_oneProduct',\n",
    "       'Avg_of_eachProduct', 'Average amount Quantity per Person',\n",
    "       'sum of each product quuantity per person',\n",
    "       'Avg of each product sales per person',\n",
    "       'Average amount Quantity per Product', 'Average sales per Product',\n",
    "       'Average salesvalue per Product']"
   ]
  },
  {
   "cell_type": "markdown",
   "metadata": {},
   "source": [
    "test_pred_xgb=xgb.predict(test_data_updated)"
   ]
  },
  {
   "cell_type": "markdown",
   "metadata": {},
   "source": [
    "test_pred_rf=pd.DataFrame(test_pred_rf)"
   ]
  },
  {
   "cell_type": "code",
   "execution_count": 54,
   "metadata": {},
   "outputs": [],
   "source": [
    "features = X_train_updated.columns\n",
    "importances_rf = rf.feature_importances_\n",
    "importances_xgb=xgb.feature_importances_\n",
    "indices_rf = np.argsort(importances_rf)\n",
    "indices_xgb=np.argsort(importances_xgb)"
   ]
  },
  {
   "cell_type": "code",
   "execution_count": 55,
   "metadata": {},
   "outputs": [
    {
     "data": {
      "image/png": "[encoded data removed]",
      "text/plain": [
       "<Figure size 432x288 with 1 Axes>"
      ]
     },
     "metadata": {},
     "output_type": "display_data"
    }
   ],
   "source": [
    "plt.title('Feature Importances for Random Forest Model')\n",
    "plt.barh(range(len(indices_rf)), importances_rf[indices_rf], color='b', align='center')\n",
    "plt.yticks(range(len(indices_rf)), [features[i] for i in indices_rf])\n",
    "plt.xlabel('Relative Importance')\n",
    "plt.show()"
   ]
  },
  {
   "cell_type": "code",
   "execution_count": 56,
   "metadata": {},
   "outputs": [
    {
     "data": {
      "image/png": "[encoded data removed]",
      "text/plain": [
       "<Figure size 432x288 with 1 Axes>"
      ]
     },
     "metadata": {},
     "output_type": "display_data"
    }
   ],
   "source": [
    "plt.title('Feature Importances for XG Boost Model')\n",
    "plt.barh(range(len(indices_xgb)), importances_xgb[indices_xgb], color='b', align='center')\n",
    "plt.yticks(range(len(indices_xgb)), [features[i] for i in indices_xgb])\n",
    "plt.xlabel('Relative Importance')\n",
    "plt.show()"
   ]
  },
  {
   "cell_type": "markdown",
   "metadata": {},
   "source": [
    "sub_file=pd.read_csv(\"samplesubmission-1558719607492.csv\")"
   ]
  },
  {
   "cell_type": "markdown",
   "metadata": {},
   "source": [
    "sub_file.head()"
   ]
  },
  {
   "cell_type": "markdown",
   "metadata": {},
   "source": [
    "sub_file=sub_file.drop(['Unnamed: 0'],axis=1)"
   ]
  },
  {
   "cell_type": "markdown",
   "metadata": {},
   "source": [
    "sub_file.head()"
   ]
  },
  {
   "cell_type": "markdown",
   "metadata": {},
   "source": [
    "sub_file['Suspicious']=test_pred_rf"
   ]
  },
  {
   "cell_type": "markdown",
   "metadata": {},
   "source": [
    "sub_file.to_csv('samplesubmission_rf_3.csv',index=False)"
   ]
  },
  {
   "cell_type": "markdown",
   "metadata": {},
   "source": [
    "from sklearn.ensemble import ExtraTreesClassifier\n",
    "model = ExtraTreesClassifier()"
   ]
  },
  {
   "cell_type": "markdown",
   "metadata": {},
   "source": [
    "model.fit(X_train_updated,y_train)"
   ]
  },
  {
   "cell_type": "markdown",
   "metadata": {},
   "source": [
    "print(model.feature_importances_)"
   ]
  },
  {
   "cell_type": "code",
   "execution_count": null,
   "metadata": {},
   "outputs": [],
   "source": []
  }
 ],
 "metadata": {
  "kernelspec": {
   "display_name": "Python 3",
   "language": "python",
   "name": "python3"
  },
  "language_info": {
   "codemirror_mode": {
    "name": "ipython",
    "version": 3
   },
   "file_extension": ".py",
   "mimetype": "text/x-python",
   "name": "python",
   "nbconvert_exporter": "python",
   "pygments_lexer": "ipython3",
   "version": "3.6.5"
  }
 },
 "nbformat": 4,
 "nbformat_minor": 2
}
